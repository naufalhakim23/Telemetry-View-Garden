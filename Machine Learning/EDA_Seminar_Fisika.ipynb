{
  "nbformat": 4,
  "nbformat_minor": 0,
  "metadata": {
    "colab": {
      "name": "EDA Seminar Fisika.ipynb",
      "provenance": [],
      "collapsed_sections": [
        "AO1vRQ6zKsQL",
        "M2LhRUbzFJXu",
        "VUi4rzdWbFYN",
        "4cHX6MetYOkt"
      ],
      "toc_visible": true
    },
    "kernelspec": {
      "display_name": "Python 3",
      "name": "python3"
    },
    "language_info": {
      "name": "python"
    }
  },
  "cells": [
    {
      "cell_type": "markdown",
      "metadata": {
        "id": "PLwaJQyrkm_u"
      },
      "source": [
        "### **Importing Modules** <a id=\"4\"></a>"
      ]
    },
    {
      "cell_type": "code",
      "metadata": {
        "colab": {
          "base_uri": "https://localhost:8080/"
        },
        "id": "_VA92EcpkjkS",
        "outputId": "e76b80ac-103f-4851-b26d-8508f35a2a38"
      },
      "source": [
        "from google.colab import drive\n",
        "drive.mount('/content/drive')"
      ],
      "execution_count": null,
      "outputs": [
        {
          "output_type": "stream",
          "name": "stdout",
          "text": [
            "Drive already mounted at /content/drive; to attempt to forcibly remount, call drive.mount(\"/content/drive\", force_remount=True).\n"
          ]
        }
      ]
    },
    {
      "cell_type": "code",
      "metadata": {
        "colab": {
          "base_uri": "https://localhost:8080/"
        },
        "id": "3ZRyf3ERkrX-",
        "outputId": "53036271-fd19-4d33-b4db-e51366fd3883"
      },
      "source": [
        "#Import data manipulation libraries\n",
        "import pandas as pd\n",
        "import numpy as np\n",
        "\n",
        "#Import the required Machine learning Libraries\n",
        "from sklearn.model_selection import train_test_split\n",
        "from sklearn.linear_model import LogisticRegression\n",
        "from sklearn import metrics\n",
        "from sklearn.metrics import accuracy_score, confusion_matrix\n",
        "from sklearn.metrics import classification_report \n",
        "from sklearn.neighbors import KNeighborsClassifier, NeighborhoodComponentsAnalysis\n",
        "from sklearn.model_selection import train_test_split, GridSearchCV\n",
        "\n",
        "\n",
        "import keras\n",
        "import tensorflow as tf\n",
        "import pandas.api.types as ptypes\n",
        "from tensorflow.keras.optimizers import RMSprop,Nadam,Adadelta,Adam\n",
        "from tensorflow.keras.layers import BatchNormalization,LeakyReLU\n",
        "from tensorflow.keras.callbacks import ReduceLROnPlateau, EarlyStopping\n",
        "\n",
        "#Import the visualization libraries\n",
        "import seaborn as sn\n",
        "import matplotlib.pyplot as plt\n",
        "\n",
        "#import access\n",
        "import os\n",
        "\n",
        "#Report\n",
        "import tensorboard\n",
        "import time\n",
        "\n",
        "#Time\n",
        "import datetime as datetime\n",
        "print(tf.__version__)"
      ],
      "execution_count": null,
      "outputs": [
        {
          "output_type": "stream",
          "name": "stdout",
          "text": [
            "2.6.0\n"
          ]
        }
      ]
    },
    {
      "cell_type": "markdown",
      "metadata": {
        "id": "5bMwpJtgmneR"
      },
      "source": [
        "### **Importing Datasets** <a id=\"4\"></a>"
      ]
    },
    {
      "cell_type": "code",
      "metadata": {
        "id": "4mQmxOq3mrpt"
      },
      "source": [
        "df = pd.read_csv(\"/content/drive/MyDrive/Seminar Fisika/Data finished_finished.csv\")"
      ],
      "execution_count": null,
      "outputs": []
    },
    {
      "cell_type": "markdown",
      "metadata": {
        "id": "R1nILevhmwSq"
      },
      "source": [
        "### **Glancing at Datasets** <a id=\"4\"></a>"
      ]
    },
    {
      "cell_type": "code",
      "metadata": {
        "id": "yUKMRHdZm0a6"
      },
      "source": [
        "df\n",
        "df2=df"
      ],
      "execution_count": null,
      "outputs": []
    },
    {
      "cell_type": "code",
      "metadata": {
        "colab": {
          "base_uri": "https://localhost:8080/"
        },
        "id": "u-QyVI2XslHM",
        "outputId": "b3d18675-1c2c-4768-c622-de12ea793c31"
      },
      "source": [
        "df.duplicated().values.any()"
      ],
      "execution_count": null,
      "outputs": [
        {
          "output_type": "execute_result",
          "data": {
            "text/plain": [
              "True"
            ]
          },
          "metadata": {},
          "execution_count": 5
        }
      ]
    },
    {
      "cell_type": "code",
      "metadata": {
        "colab": {
          "base_uri": "https://localhost:8080/"
        },
        "id": "ybpeuXXwsrbs",
        "outputId": "318a3040-c090-4409-d7f2-59cbc1a3bc23"
      },
      "source": [
        "df.duplicated()"
      ],
      "execution_count": null,
      "outputs": [
        {
          "output_type": "execute_result",
          "data": {
            "text/plain": [
              "0        False\n",
              "1        False\n",
              "2        False\n",
              "3        False\n",
              "4        False\n",
              "         ...  \n",
              "25825    False\n",
              "25826    False\n",
              "25827    False\n",
              "25828    False\n",
              "25829    False\n",
              "Length: 25830, dtype: bool"
            ]
          },
          "metadata": {},
          "execution_count": 6
        }
      ]
    },
    {
      "cell_type": "code",
      "metadata": {
        "id": "7wXebq2qst82"
      },
      "source": [
        "df = df.drop('co2ppmCorrected', 1)\n",
        "df = df.drop('co2ppmPureSens', 1)\n",
        "df = df.drop('z_counter', 1)\n",
        "df = df.drop('_key', 1)"
      ],
      "execution_count": null,
      "outputs": []
    },
    {
      "cell_type": "code",
      "metadata": {
        "colab": {
          "base_uri": "https://localhost:8080/",
          "height": 419
        },
        "id": "GO_BOwzktfN1",
        "outputId": "10473ddc-1436-4b42-91c7-256b639169a0"
      },
      "source": [
        "x = df.copy(deep=True)\n",
        "df_model = df.copy(deep=True)\n",
        "df"
      ],
      "execution_count": null,
      "outputs": [
        {
          "output_type": "execute_result",
          "data": {
            "text/html": [
              "<div>\n",
              "<style scoped>\n",
              "    .dataframe tbody tr th:only-of-type {\n",
              "        vertical-align: middle;\n",
              "    }\n",
              "\n",
              "    .dataframe tbody tr th {\n",
              "        vertical-align: top;\n",
              "    }\n",
              "\n",
              "    .dataframe thead th {\n",
              "        text-align: right;\n",
              "    }\n",
              "</style>\n",
              "<table border=\"1\" class=\"dataframe\">\n",
              "  <thead>\n",
              "    <tr style=\"text-align: right;\">\n",
              "      <th></th>\n",
              "      <th>Ts</th>\n",
              "      <th>humidity</th>\n",
              "      <th>lightStats</th>\n",
              "      <th>pumpStatus</th>\n",
              "      <th>soilHum</th>\n",
              "      <th>soilTemp</th>\n",
              "      <th>temperature</th>\n",
              "    </tr>\n",
              "  </thead>\n",
              "  <tbody>\n",
              "    <tr>\n",
              "      <th>0</th>\n",
              "      <td>1635147131999</td>\n",
              "      <td>71.6</td>\n",
              "      <td>215</td>\n",
              "      <td>0</td>\n",
              "      <td>97</td>\n",
              "      <td>27.8125</td>\n",
              "      <td>29.5</td>\n",
              "    </tr>\n",
              "    <tr>\n",
              "      <th>1</th>\n",
              "      <td>1635147191641</td>\n",
              "      <td>72.8</td>\n",
              "      <td>217</td>\n",
              "      <td>0</td>\n",
              "      <td>96</td>\n",
              "      <td>27.8125</td>\n",
              "      <td>29.5</td>\n",
              "    </tr>\n",
              "    <tr>\n",
              "      <th>2</th>\n",
              "      <td>1635147221444</td>\n",
              "      <td>73.2</td>\n",
              "      <td>208</td>\n",
              "      <td>0</td>\n",
              "      <td>96</td>\n",
              "      <td>27.8125</td>\n",
              "      <td>29.5</td>\n",
              "    </tr>\n",
              "    <tr>\n",
              "      <th>3</th>\n",
              "      <td>1635147251257</td>\n",
              "      <td>72.8</td>\n",
              "      <td>210</td>\n",
              "      <td>0</td>\n",
              "      <td>96</td>\n",
              "      <td>27.8125</td>\n",
              "      <td>29.5</td>\n",
              "    </tr>\n",
              "    <tr>\n",
              "      <th>4</th>\n",
              "      <td>1635148033290</td>\n",
              "      <td>74.8</td>\n",
              "      <td>275</td>\n",
              "      <td>0</td>\n",
              "      <td>93</td>\n",
              "      <td>27.8750</td>\n",
              "      <td>29.3</td>\n",
              "    </tr>\n",
              "    <tr>\n",
              "      <th>...</th>\n",
              "      <td>...</td>\n",
              "      <td>...</td>\n",
              "      <td>...</td>\n",
              "      <td>...</td>\n",
              "      <td>...</td>\n",
              "      <td>...</td>\n",
              "      <td>...</td>\n",
              "    </tr>\n",
              "    <tr>\n",
              "      <th>25825</th>\n",
              "      <td>1635835481925</td>\n",
              "      <td>93.1</td>\n",
              "      <td>608</td>\n",
              "      <td>0</td>\n",
              "      <td>83</td>\n",
              "      <td>27.6250</td>\n",
              "      <td>26.8</td>\n",
              "    </tr>\n",
              "    <tr>\n",
              "      <th>25826</th>\n",
              "      <td>1635835511753</td>\n",
              "      <td>93.2</td>\n",
              "      <td>623</td>\n",
              "      <td>0</td>\n",
              "      <td>83</td>\n",
              "      <td>27.5625</td>\n",
              "      <td>26.9</td>\n",
              "    </tr>\n",
              "    <tr>\n",
              "      <th>25827</th>\n",
              "      <td>1635835542535</td>\n",
              "      <td>93.1</td>\n",
              "      <td>628</td>\n",
              "      <td>0</td>\n",
              "      <td>83</td>\n",
              "      <td>27.5625</td>\n",
              "      <td>26.9</td>\n",
              "    </tr>\n",
              "    <tr>\n",
              "      <th>25828</th>\n",
              "      <td>1635835571752</td>\n",
              "      <td>92.6</td>\n",
              "      <td>643</td>\n",
              "      <td>0</td>\n",
              "      <td>82</td>\n",
              "      <td>27.5625</td>\n",
              "      <td>26.8</td>\n",
              "    </tr>\n",
              "    <tr>\n",
              "      <th>25829</th>\n",
              "      <td>1635835601566</td>\n",
              "      <td>92.6</td>\n",
              "      <td>640</td>\n",
              "      <td>0</td>\n",
              "      <td>83</td>\n",
              "      <td>27.5625</td>\n",
              "      <td>26.8</td>\n",
              "    </tr>\n",
              "  </tbody>\n",
              "</table>\n",
              "<p>25830 rows × 7 columns</p>\n",
              "</div>"
            ],
            "text/plain": [
              "                  Ts  humidity  lightStats  ...  soilHum  soilTemp  temperature\n",
              "0      1635147131999      71.6         215  ...       97   27.8125         29.5\n",
              "1      1635147191641      72.8         217  ...       96   27.8125         29.5\n",
              "2      1635147221444      73.2         208  ...       96   27.8125         29.5\n",
              "3      1635147251257      72.8         210  ...       96   27.8125         29.5\n",
              "4      1635148033290      74.8         275  ...       93   27.8750         29.3\n",
              "...              ...       ...         ...  ...      ...       ...          ...\n",
              "25825  1635835481925      93.1         608  ...       83   27.6250         26.8\n",
              "25826  1635835511753      93.2         623  ...       83   27.5625         26.9\n",
              "25827  1635835542535      93.1         628  ...       83   27.5625         26.9\n",
              "25828  1635835571752      92.6         643  ...       82   27.5625         26.8\n",
              "25829  1635835601566      92.6         640  ...       83   27.5625         26.8\n",
              "\n",
              "[25830 rows x 7 columns]"
            ]
          },
          "metadata": {},
          "execution_count": 9
        }
      ]
    },
    {
      "cell_type": "code",
      "metadata": {
        "id": "zUZ4WLM70tUs"
      },
      "source": [
        "# df = df.drop_duplicates() \n",
        "# df.duplicated().values.any()"
      ],
      "execution_count": null,
      "outputs": []
    },
    {
      "cell_type": "code",
      "metadata": {
        "colab": {
          "base_uri": "https://localhost:8080/"
        },
        "id": "rosB0GLDtjVu",
        "outputId": "8388d608-e114-4dd8-8472-2ae8f0902465"
      },
      "source": [
        "df = df.fillna(method=\"ffill\")\n",
        "pd.isnull(df).any()  # Checking for Null Values"
      ],
      "execution_count": null,
      "outputs": [
        {
          "output_type": "execute_result",
          "data": {
            "text/plain": [
              "Ts             False\n",
              "humidity       False\n",
              "lightStats     False\n",
              "pumpStatus     False\n",
              "soilHum        False\n",
              "soilTemp       False\n",
              "temperature    False\n",
              "dtype: bool"
            ]
          },
          "metadata": {},
          "execution_count": 25
        }
      ]
    },
    {
      "cell_type": "code",
      "metadata": {
        "colab": {
          "base_uri": "https://localhost:8080/",
          "height": 419
        },
        "id": "JtRA8Peg1AwC",
        "outputId": "4fe3f169-df4f-4197-cd4c-98dba9a55069"
      },
      "source": [
        "df"
      ],
      "execution_count": null,
      "outputs": [
        {
          "output_type": "execute_result",
          "data": {
            "text/html": [
              "<div>\n",
              "<style scoped>\n",
              "    .dataframe tbody tr th:only-of-type {\n",
              "        vertical-align: middle;\n",
              "    }\n",
              "\n",
              "    .dataframe tbody tr th {\n",
              "        vertical-align: top;\n",
              "    }\n",
              "\n",
              "    .dataframe thead th {\n",
              "        text-align: right;\n",
              "    }\n",
              "</style>\n",
              "<table border=\"1\" class=\"dataframe\">\n",
              "  <thead>\n",
              "    <tr style=\"text-align: right;\">\n",
              "      <th></th>\n",
              "      <th>Ts</th>\n",
              "      <th>humidity</th>\n",
              "      <th>lightStats</th>\n",
              "      <th>pumpStatus</th>\n",
              "      <th>soilHum</th>\n",
              "      <th>soilTemp</th>\n",
              "      <th>temperature</th>\n",
              "    </tr>\n",
              "  </thead>\n",
              "  <tbody>\n",
              "    <tr>\n",
              "      <th>0</th>\n",
              "      <td>1635147131999</td>\n",
              "      <td>71.6</td>\n",
              "      <td>215</td>\n",
              "      <td>0</td>\n",
              "      <td>97</td>\n",
              "      <td>27.8125</td>\n",
              "      <td>29.5</td>\n",
              "    </tr>\n",
              "    <tr>\n",
              "      <th>1</th>\n",
              "      <td>1635147191641</td>\n",
              "      <td>72.8</td>\n",
              "      <td>217</td>\n",
              "      <td>0</td>\n",
              "      <td>96</td>\n",
              "      <td>27.8125</td>\n",
              "      <td>29.5</td>\n",
              "    </tr>\n",
              "    <tr>\n",
              "      <th>2</th>\n",
              "      <td>1635147221444</td>\n",
              "      <td>73.2</td>\n",
              "      <td>208</td>\n",
              "      <td>0</td>\n",
              "      <td>96</td>\n",
              "      <td>27.8125</td>\n",
              "      <td>29.5</td>\n",
              "    </tr>\n",
              "    <tr>\n",
              "      <th>3</th>\n",
              "      <td>1635147251257</td>\n",
              "      <td>72.8</td>\n",
              "      <td>210</td>\n",
              "      <td>0</td>\n",
              "      <td>96</td>\n",
              "      <td>27.8125</td>\n",
              "      <td>29.5</td>\n",
              "    </tr>\n",
              "    <tr>\n",
              "      <th>4</th>\n",
              "      <td>1635148033290</td>\n",
              "      <td>74.8</td>\n",
              "      <td>275</td>\n",
              "      <td>0</td>\n",
              "      <td>93</td>\n",
              "      <td>27.8750</td>\n",
              "      <td>29.3</td>\n",
              "    </tr>\n",
              "    <tr>\n",
              "      <th>...</th>\n",
              "      <td>...</td>\n",
              "      <td>...</td>\n",
              "      <td>...</td>\n",
              "      <td>...</td>\n",
              "      <td>...</td>\n",
              "      <td>...</td>\n",
              "      <td>...</td>\n",
              "    </tr>\n",
              "    <tr>\n",
              "      <th>25825</th>\n",
              "      <td>1635835481925</td>\n",
              "      <td>93.1</td>\n",
              "      <td>608</td>\n",
              "      <td>0</td>\n",
              "      <td>83</td>\n",
              "      <td>27.6250</td>\n",
              "      <td>26.8</td>\n",
              "    </tr>\n",
              "    <tr>\n",
              "      <th>25826</th>\n",
              "      <td>1635835511753</td>\n",
              "      <td>93.2</td>\n",
              "      <td>623</td>\n",
              "      <td>0</td>\n",
              "      <td>83</td>\n",
              "      <td>27.5625</td>\n",
              "      <td>26.9</td>\n",
              "    </tr>\n",
              "    <tr>\n",
              "      <th>25827</th>\n",
              "      <td>1635835542535</td>\n",
              "      <td>93.1</td>\n",
              "      <td>628</td>\n",
              "      <td>0</td>\n",
              "      <td>83</td>\n",
              "      <td>27.5625</td>\n",
              "      <td>26.9</td>\n",
              "    </tr>\n",
              "    <tr>\n",
              "      <th>25828</th>\n",
              "      <td>1635835571752</td>\n",
              "      <td>92.6</td>\n",
              "      <td>643</td>\n",
              "      <td>0</td>\n",
              "      <td>82</td>\n",
              "      <td>27.5625</td>\n",
              "      <td>26.8</td>\n",
              "    </tr>\n",
              "    <tr>\n",
              "      <th>25829</th>\n",
              "      <td>1635835601566</td>\n",
              "      <td>92.6</td>\n",
              "      <td>640</td>\n",
              "      <td>0</td>\n",
              "      <td>83</td>\n",
              "      <td>27.5625</td>\n",
              "      <td>26.8</td>\n",
              "    </tr>\n",
              "  </tbody>\n",
              "</table>\n",
              "<p>25830 rows × 7 columns</p>\n",
              "</div>"
            ],
            "text/plain": [
              "                  Ts  humidity  lightStats  ...  soilHum  soilTemp  temperature\n",
              "0      1635147131999      71.6         215  ...       97   27.8125         29.5\n",
              "1      1635147191641      72.8         217  ...       96   27.8125         29.5\n",
              "2      1635147221444      73.2         208  ...       96   27.8125         29.5\n",
              "3      1635147251257      72.8         210  ...       96   27.8125         29.5\n",
              "4      1635148033290      74.8         275  ...       93   27.8750         29.3\n",
              "...              ...       ...         ...  ...      ...       ...          ...\n",
              "25825  1635835481925      93.1         608  ...       83   27.6250         26.8\n",
              "25826  1635835511753      93.2         623  ...       83   27.5625         26.9\n",
              "25827  1635835542535      93.1         628  ...       83   27.5625         26.9\n",
              "25828  1635835571752      92.6         643  ...       82   27.5625         26.8\n",
              "25829  1635835601566      92.6         640  ...       83   27.5625         26.8\n",
              "\n",
              "[25830 rows x 7 columns]"
            ]
          },
          "metadata": {},
          "execution_count": 26
        }
      ]
    },
    {
      "cell_type": "code",
      "metadata": {
        "id": "J8-oSBbM1BbZ"
      },
      "source": [
        "# df['avgHum']=(df['humidity']+df['soilHum'])/2\n",
        "# df['avgTemp']=(df['temperature']+df['soilTemp'])/2"
      ],
      "execution_count": null,
      "outputs": []
    },
    {
      "cell_type": "code",
      "metadata": {
        "colab": {
          "base_uri": "https://localhost:8080/"
        },
        "id": "C1rIWefY19Fp",
        "outputId": "da5d0cc7-c948-4251-ebc9-4e58f5ea767c"
      },
      "source": [
        "df.shape"
      ],
      "execution_count": null,
      "outputs": [
        {
          "output_type": "execute_result",
          "data": {
            "text/plain": [
              "(25830, 7)"
            ]
          },
          "metadata": {},
          "execution_count": 28
        }
      ]
    },
    {
      "cell_type": "markdown",
      "metadata": {
        "id": "_-qejvOPAh7y"
      },
      "source": [
        "### **Changing Timestamp to Normal Time** <a id=\"4\"></a>\n"
      ]
    },
    {
      "cell_type": "code",
      "metadata": {
        "id": "fE_FRg0I_1-3"
      },
      "source": [
        "df['Ts'] = pd.to_datetime(df['Ts'],unit='ms')"
      ],
      "execution_count": null,
      "outputs": []
    },
    {
      "cell_type": "code",
      "metadata": {
        "colab": {
          "base_uri": "https://localhost:8080/",
          "height": 419
        },
        "id": "YC11cNg7AecL",
        "outputId": "d22e4bbd-1493-41f1-bb00-fc9c5415d55e"
      },
      "source": [
        "df"
      ],
      "execution_count": null,
      "outputs": [
        {
          "output_type": "execute_result",
          "data": {
            "text/html": [
              "<div>\n",
              "<style scoped>\n",
              "    .dataframe tbody tr th:only-of-type {\n",
              "        vertical-align: middle;\n",
              "    }\n",
              "\n",
              "    .dataframe tbody tr th {\n",
              "        vertical-align: top;\n",
              "    }\n",
              "\n",
              "    .dataframe thead th {\n",
              "        text-align: right;\n",
              "    }\n",
              "</style>\n",
              "<table border=\"1\" class=\"dataframe\">\n",
              "  <thead>\n",
              "    <tr style=\"text-align: right;\">\n",
              "      <th></th>\n",
              "      <th>Ts</th>\n",
              "      <th>humidity</th>\n",
              "      <th>lightStats</th>\n",
              "      <th>pumpStatus</th>\n",
              "      <th>soilHum</th>\n",
              "      <th>soilTemp</th>\n",
              "      <th>temperature</th>\n",
              "    </tr>\n",
              "  </thead>\n",
              "  <tbody>\n",
              "    <tr>\n",
              "      <th>0</th>\n",
              "      <td>2021-10-25 07:32:11.999</td>\n",
              "      <td>71.6</td>\n",
              "      <td>215</td>\n",
              "      <td>0</td>\n",
              "      <td>97</td>\n",
              "      <td>27.8125</td>\n",
              "      <td>29.5</td>\n",
              "    </tr>\n",
              "    <tr>\n",
              "      <th>1</th>\n",
              "      <td>2021-10-25 07:33:11.641</td>\n",
              "      <td>72.8</td>\n",
              "      <td>217</td>\n",
              "      <td>0</td>\n",
              "      <td>96</td>\n",
              "      <td>27.8125</td>\n",
              "      <td>29.5</td>\n",
              "    </tr>\n",
              "    <tr>\n",
              "      <th>2</th>\n",
              "      <td>2021-10-25 07:33:41.444</td>\n",
              "      <td>73.2</td>\n",
              "      <td>208</td>\n",
              "      <td>0</td>\n",
              "      <td>96</td>\n",
              "      <td>27.8125</td>\n",
              "      <td>29.5</td>\n",
              "    </tr>\n",
              "    <tr>\n",
              "      <th>3</th>\n",
              "      <td>2021-10-25 07:34:11.257</td>\n",
              "      <td>72.8</td>\n",
              "      <td>210</td>\n",
              "      <td>0</td>\n",
              "      <td>96</td>\n",
              "      <td>27.8125</td>\n",
              "      <td>29.5</td>\n",
              "    </tr>\n",
              "    <tr>\n",
              "      <th>4</th>\n",
              "      <td>2021-10-25 07:47:13.290</td>\n",
              "      <td>74.8</td>\n",
              "      <td>275</td>\n",
              "      <td>0</td>\n",
              "      <td>93</td>\n",
              "      <td>27.8750</td>\n",
              "      <td>29.3</td>\n",
              "    </tr>\n",
              "    <tr>\n",
              "      <th>...</th>\n",
              "      <td>...</td>\n",
              "      <td>...</td>\n",
              "      <td>...</td>\n",
              "      <td>...</td>\n",
              "      <td>...</td>\n",
              "      <td>...</td>\n",
              "      <td>...</td>\n",
              "    </tr>\n",
              "    <tr>\n",
              "      <th>25825</th>\n",
              "      <td>2021-11-02 06:44:41.925</td>\n",
              "      <td>93.1</td>\n",
              "      <td>608</td>\n",
              "      <td>0</td>\n",
              "      <td>83</td>\n",
              "      <td>27.6250</td>\n",
              "      <td>26.8</td>\n",
              "    </tr>\n",
              "    <tr>\n",
              "      <th>25826</th>\n",
              "      <td>2021-11-02 06:45:11.753</td>\n",
              "      <td>93.2</td>\n",
              "      <td>623</td>\n",
              "      <td>0</td>\n",
              "      <td>83</td>\n",
              "      <td>27.5625</td>\n",
              "      <td>26.9</td>\n",
              "    </tr>\n",
              "    <tr>\n",
              "      <th>25827</th>\n",
              "      <td>2021-11-02 06:45:42.535</td>\n",
              "      <td>93.1</td>\n",
              "      <td>628</td>\n",
              "      <td>0</td>\n",
              "      <td>83</td>\n",
              "      <td>27.5625</td>\n",
              "      <td>26.9</td>\n",
              "    </tr>\n",
              "    <tr>\n",
              "      <th>25828</th>\n",
              "      <td>2021-11-02 06:46:11.752</td>\n",
              "      <td>92.6</td>\n",
              "      <td>643</td>\n",
              "      <td>0</td>\n",
              "      <td>82</td>\n",
              "      <td>27.5625</td>\n",
              "      <td>26.8</td>\n",
              "    </tr>\n",
              "    <tr>\n",
              "      <th>25829</th>\n",
              "      <td>2021-11-02 06:46:41.566</td>\n",
              "      <td>92.6</td>\n",
              "      <td>640</td>\n",
              "      <td>0</td>\n",
              "      <td>83</td>\n",
              "      <td>27.5625</td>\n",
              "      <td>26.8</td>\n",
              "    </tr>\n",
              "  </tbody>\n",
              "</table>\n",
              "<p>25830 rows × 7 columns</p>\n",
              "</div>"
            ],
            "text/plain": [
              "                           Ts  humidity  ...  soilTemp  temperature\n",
              "0     2021-10-25 07:32:11.999      71.6  ...   27.8125         29.5\n",
              "1     2021-10-25 07:33:11.641      72.8  ...   27.8125         29.5\n",
              "2     2021-10-25 07:33:41.444      73.2  ...   27.8125         29.5\n",
              "3     2021-10-25 07:34:11.257      72.8  ...   27.8125         29.5\n",
              "4     2021-10-25 07:47:13.290      74.8  ...   27.8750         29.3\n",
              "...                       ...       ...  ...       ...          ...\n",
              "25825 2021-11-02 06:44:41.925      93.1  ...   27.6250         26.8\n",
              "25826 2021-11-02 06:45:11.753      93.2  ...   27.5625         26.9\n",
              "25827 2021-11-02 06:45:42.535      93.1  ...   27.5625         26.9\n",
              "25828 2021-11-02 06:46:11.752      92.6  ...   27.5625         26.8\n",
              "25829 2021-11-02 06:46:41.566      92.6  ...   27.5625         26.8\n",
              "\n",
              "[25830 rows x 7 columns]"
            ]
          },
          "metadata": {},
          "execution_count": 32
        }
      ]
    },
    {
      "cell_type": "code",
      "metadata": {
        "id": "yxhpgStCYp1Y"
      },
      "source": [
        "df3=df.copy(deep=True)"
      ],
      "execution_count": null,
      "outputs": []
    },
    {
      "cell_type": "code",
      "metadata": {
        "colab": {
          "base_uri": "https://localhost:8080/",
          "height": 419
        },
        "id": "K-uj7y89PYnB",
        "outputId": "52962990-26f6-4c7e-9408-98a3abb7d622"
      },
      "source": [
        "df3"
      ],
      "execution_count": null,
      "outputs": [
        {
          "output_type": "execute_result",
          "data": {
            "text/html": [
              "<div>\n",
              "<style scoped>\n",
              "    .dataframe tbody tr th:only-of-type {\n",
              "        vertical-align: middle;\n",
              "    }\n",
              "\n",
              "    .dataframe tbody tr th {\n",
              "        vertical-align: top;\n",
              "    }\n",
              "\n",
              "    .dataframe thead th {\n",
              "        text-align: right;\n",
              "    }\n",
              "</style>\n",
              "<table border=\"1\" class=\"dataframe\">\n",
              "  <thead>\n",
              "    <tr style=\"text-align: right;\">\n",
              "      <th></th>\n",
              "      <th>Ts</th>\n",
              "      <th>humidity</th>\n",
              "      <th>lightStats</th>\n",
              "      <th>pumpStatus</th>\n",
              "      <th>soilHum</th>\n",
              "      <th>soilTemp</th>\n",
              "      <th>temperature</th>\n",
              "    </tr>\n",
              "  </thead>\n",
              "  <tbody>\n",
              "    <tr>\n",
              "      <th>0</th>\n",
              "      <td>2021-10-25 07:32:11.999</td>\n",
              "      <td>71.6</td>\n",
              "      <td>215</td>\n",
              "      <td>0</td>\n",
              "      <td>97</td>\n",
              "      <td>27.8125</td>\n",
              "      <td>29.5</td>\n",
              "    </tr>\n",
              "    <tr>\n",
              "      <th>1</th>\n",
              "      <td>2021-10-25 07:33:11.641</td>\n",
              "      <td>72.8</td>\n",
              "      <td>217</td>\n",
              "      <td>0</td>\n",
              "      <td>96</td>\n",
              "      <td>27.8125</td>\n",
              "      <td>29.5</td>\n",
              "    </tr>\n",
              "    <tr>\n",
              "      <th>2</th>\n",
              "      <td>2021-10-25 07:33:41.444</td>\n",
              "      <td>73.2</td>\n",
              "      <td>208</td>\n",
              "      <td>0</td>\n",
              "      <td>96</td>\n",
              "      <td>27.8125</td>\n",
              "      <td>29.5</td>\n",
              "    </tr>\n",
              "    <tr>\n",
              "      <th>3</th>\n",
              "      <td>2021-10-25 07:34:11.257</td>\n",
              "      <td>72.8</td>\n",
              "      <td>210</td>\n",
              "      <td>0</td>\n",
              "      <td>96</td>\n",
              "      <td>27.8125</td>\n",
              "      <td>29.5</td>\n",
              "    </tr>\n",
              "    <tr>\n",
              "      <th>4</th>\n",
              "      <td>2021-10-25 07:47:13.290</td>\n",
              "      <td>74.8</td>\n",
              "      <td>275</td>\n",
              "      <td>0</td>\n",
              "      <td>93</td>\n",
              "      <td>27.8750</td>\n",
              "      <td>29.3</td>\n",
              "    </tr>\n",
              "    <tr>\n",
              "      <th>...</th>\n",
              "      <td>...</td>\n",
              "      <td>...</td>\n",
              "      <td>...</td>\n",
              "      <td>...</td>\n",
              "      <td>...</td>\n",
              "      <td>...</td>\n",
              "      <td>...</td>\n",
              "    </tr>\n",
              "    <tr>\n",
              "      <th>25825</th>\n",
              "      <td>2021-11-02 06:44:41.925</td>\n",
              "      <td>93.1</td>\n",
              "      <td>608</td>\n",
              "      <td>0</td>\n",
              "      <td>83</td>\n",
              "      <td>27.6250</td>\n",
              "      <td>26.8</td>\n",
              "    </tr>\n",
              "    <tr>\n",
              "      <th>25826</th>\n",
              "      <td>2021-11-02 06:45:11.753</td>\n",
              "      <td>93.2</td>\n",
              "      <td>623</td>\n",
              "      <td>0</td>\n",
              "      <td>83</td>\n",
              "      <td>27.5625</td>\n",
              "      <td>26.9</td>\n",
              "    </tr>\n",
              "    <tr>\n",
              "      <th>25827</th>\n",
              "      <td>2021-11-02 06:45:42.535</td>\n",
              "      <td>93.1</td>\n",
              "      <td>628</td>\n",
              "      <td>0</td>\n",
              "      <td>83</td>\n",
              "      <td>27.5625</td>\n",
              "      <td>26.9</td>\n",
              "    </tr>\n",
              "    <tr>\n",
              "      <th>25828</th>\n",
              "      <td>2021-11-02 06:46:11.752</td>\n",
              "      <td>92.6</td>\n",
              "      <td>643</td>\n",
              "      <td>0</td>\n",
              "      <td>82</td>\n",
              "      <td>27.5625</td>\n",
              "      <td>26.8</td>\n",
              "    </tr>\n",
              "    <tr>\n",
              "      <th>25829</th>\n",
              "      <td>2021-11-02 06:46:41.566</td>\n",
              "      <td>92.6</td>\n",
              "      <td>640</td>\n",
              "      <td>0</td>\n",
              "      <td>83</td>\n",
              "      <td>27.5625</td>\n",
              "      <td>26.8</td>\n",
              "    </tr>\n",
              "  </tbody>\n",
              "</table>\n",
              "<p>25830 rows × 7 columns</p>\n",
              "</div>"
            ],
            "text/plain": [
              "                           Ts  humidity  ...  soilTemp  temperature\n",
              "0     2021-10-25 07:32:11.999      71.6  ...   27.8125         29.5\n",
              "1     2021-10-25 07:33:11.641      72.8  ...   27.8125         29.5\n",
              "2     2021-10-25 07:33:41.444      73.2  ...   27.8125         29.5\n",
              "3     2021-10-25 07:34:11.257      72.8  ...   27.8125         29.5\n",
              "4     2021-10-25 07:47:13.290      74.8  ...   27.8750         29.3\n",
              "...                       ...       ...  ...       ...          ...\n",
              "25825 2021-11-02 06:44:41.925      93.1  ...   27.6250         26.8\n",
              "25826 2021-11-02 06:45:11.753      93.2  ...   27.5625         26.9\n",
              "25827 2021-11-02 06:45:42.535      93.1  ...   27.5625         26.9\n",
              "25828 2021-11-02 06:46:11.752      92.6  ...   27.5625         26.8\n",
              "25829 2021-11-02 06:46:41.566      92.6  ...   27.5625         26.8\n",
              "\n",
              "[25830 rows x 7 columns]"
            ]
          },
          "metadata": {},
          "execution_count": 34
        }
      ]
    },
    {
      "cell_type": "code",
      "metadata": {
        "id": "PdSR6gqfZGle"
      },
      "source": [
        "df.set_index('Ts', inplace=True)"
      ],
      "execution_count": null,
      "outputs": []
    },
    {
      "cell_type": "code",
      "metadata": {
        "colab": {
          "base_uri": "https://localhost:8080/",
          "height": 450
        },
        "id": "XxxUamRKMWkU",
        "outputId": "e4940e50-290d-4227-df0f-2b55dee6e064"
      },
      "source": [
        "df"
      ],
      "execution_count": null,
      "outputs": [
        {
          "output_type": "execute_result",
          "data": {
            "text/html": [
              "<div>\n",
              "<style scoped>\n",
              "    .dataframe tbody tr th:only-of-type {\n",
              "        vertical-align: middle;\n",
              "    }\n",
              "\n",
              "    .dataframe tbody tr th {\n",
              "        vertical-align: top;\n",
              "    }\n",
              "\n",
              "    .dataframe thead th {\n",
              "        text-align: right;\n",
              "    }\n",
              "</style>\n",
              "<table border=\"1\" class=\"dataframe\">\n",
              "  <thead>\n",
              "    <tr style=\"text-align: right;\">\n",
              "      <th></th>\n",
              "      <th>humidity</th>\n",
              "      <th>lightStats</th>\n",
              "      <th>pumpStatus</th>\n",
              "      <th>soilHum</th>\n",
              "      <th>soilTemp</th>\n",
              "      <th>temperature</th>\n",
              "    </tr>\n",
              "    <tr>\n",
              "      <th>Ts</th>\n",
              "      <th></th>\n",
              "      <th></th>\n",
              "      <th></th>\n",
              "      <th></th>\n",
              "      <th></th>\n",
              "      <th></th>\n",
              "    </tr>\n",
              "  </thead>\n",
              "  <tbody>\n",
              "    <tr>\n",
              "      <th>2021-10-25 07:32:11.999</th>\n",
              "      <td>71.6</td>\n",
              "      <td>215</td>\n",
              "      <td>0</td>\n",
              "      <td>97</td>\n",
              "      <td>27.8125</td>\n",
              "      <td>29.5</td>\n",
              "    </tr>\n",
              "    <tr>\n",
              "      <th>2021-10-25 07:33:11.641</th>\n",
              "      <td>72.8</td>\n",
              "      <td>217</td>\n",
              "      <td>0</td>\n",
              "      <td>96</td>\n",
              "      <td>27.8125</td>\n",
              "      <td>29.5</td>\n",
              "    </tr>\n",
              "    <tr>\n",
              "      <th>2021-10-25 07:33:41.444</th>\n",
              "      <td>73.2</td>\n",
              "      <td>208</td>\n",
              "      <td>0</td>\n",
              "      <td>96</td>\n",
              "      <td>27.8125</td>\n",
              "      <td>29.5</td>\n",
              "    </tr>\n",
              "    <tr>\n",
              "      <th>2021-10-25 07:34:11.257</th>\n",
              "      <td>72.8</td>\n",
              "      <td>210</td>\n",
              "      <td>0</td>\n",
              "      <td>96</td>\n",
              "      <td>27.8125</td>\n",
              "      <td>29.5</td>\n",
              "    </tr>\n",
              "    <tr>\n",
              "      <th>2021-10-25 07:47:13.290</th>\n",
              "      <td>74.8</td>\n",
              "      <td>275</td>\n",
              "      <td>0</td>\n",
              "      <td>93</td>\n",
              "      <td>27.8750</td>\n",
              "      <td>29.3</td>\n",
              "    </tr>\n",
              "    <tr>\n",
              "      <th>...</th>\n",
              "      <td>...</td>\n",
              "      <td>...</td>\n",
              "      <td>...</td>\n",
              "      <td>...</td>\n",
              "      <td>...</td>\n",
              "      <td>...</td>\n",
              "    </tr>\n",
              "    <tr>\n",
              "      <th>2021-11-02 06:44:41.925</th>\n",
              "      <td>93.1</td>\n",
              "      <td>608</td>\n",
              "      <td>0</td>\n",
              "      <td>83</td>\n",
              "      <td>27.6250</td>\n",
              "      <td>26.8</td>\n",
              "    </tr>\n",
              "    <tr>\n",
              "      <th>2021-11-02 06:45:11.753</th>\n",
              "      <td>93.2</td>\n",
              "      <td>623</td>\n",
              "      <td>0</td>\n",
              "      <td>83</td>\n",
              "      <td>27.5625</td>\n",
              "      <td>26.9</td>\n",
              "    </tr>\n",
              "    <tr>\n",
              "      <th>2021-11-02 06:45:42.535</th>\n",
              "      <td>93.1</td>\n",
              "      <td>628</td>\n",
              "      <td>0</td>\n",
              "      <td>83</td>\n",
              "      <td>27.5625</td>\n",
              "      <td>26.9</td>\n",
              "    </tr>\n",
              "    <tr>\n",
              "      <th>2021-11-02 06:46:11.752</th>\n",
              "      <td>92.6</td>\n",
              "      <td>643</td>\n",
              "      <td>0</td>\n",
              "      <td>82</td>\n",
              "      <td>27.5625</td>\n",
              "      <td>26.8</td>\n",
              "    </tr>\n",
              "    <tr>\n",
              "      <th>2021-11-02 06:46:41.566</th>\n",
              "      <td>92.6</td>\n",
              "      <td>640</td>\n",
              "      <td>0</td>\n",
              "      <td>83</td>\n",
              "      <td>27.5625</td>\n",
              "      <td>26.8</td>\n",
              "    </tr>\n",
              "  </tbody>\n",
              "</table>\n",
              "<p>25830 rows × 6 columns</p>\n",
              "</div>"
            ],
            "text/plain": [
              "                         humidity  lightStats  ...  soilTemp  temperature\n",
              "Ts                                             ...                       \n",
              "2021-10-25 07:32:11.999      71.6         215  ...   27.8125         29.5\n",
              "2021-10-25 07:33:11.641      72.8         217  ...   27.8125         29.5\n",
              "2021-10-25 07:33:41.444      73.2         208  ...   27.8125         29.5\n",
              "2021-10-25 07:34:11.257      72.8         210  ...   27.8125         29.5\n",
              "2021-10-25 07:47:13.290      74.8         275  ...   27.8750         29.3\n",
              "...                           ...         ...  ...       ...          ...\n",
              "2021-11-02 06:44:41.925      93.1         608  ...   27.6250         26.8\n",
              "2021-11-02 06:45:11.753      93.2         623  ...   27.5625         26.9\n",
              "2021-11-02 06:45:42.535      93.1         628  ...   27.5625         26.9\n",
              "2021-11-02 06:46:11.752      92.6         643  ...   27.5625         26.8\n",
              "2021-11-02 06:46:41.566      92.6         640  ...   27.5625         26.8\n",
              "\n",
              "[25830 rows x 6 columns]"
            ]
          },
          "metadata": {},
          "execution_count": 36
        }
      ]
    },
    {
      "cell_type": "code",
      "metadata": {
        "colab": {
          "base_uri": "https://localhost:8080/"
        },
        "id": "ZDeDjbc1bZPD",
        "outputId": "92c769a3-f0d0-4434-8468-06f0618063c4"
      },
      "source": [
        "df.shape"
      ],
      "execution_count": null,
      "outputs": [
        {
          "output_type": "execute_result",
          "data": {
            "text/plain": [
              "(25830, 6)"
            ]
          },
          "metadata": {},
          "execution_count": 37
        }
      ]
    },
    {
      "cell_type": "markdown",
      "metadata": {
        "id": "gKkj3mUoJnLE"
      },
      "source": [
        ""
      ]
    },
    {
      "cell_type": "code",
      "metadata": {
        "id": "XC9NnKPIA9dA"
      },
      "source": [
        "# df['Ts'] = df['Ts'].apply(lambda x: pd.Timestamp(x).strftime('%H:%M:%S'))"
      ],
      "execution_count": null,
      "outputs": []
    },
    {
      "cell_type": "code",
      "metadata": {
        "id": "_29PINW0BJPY"
      },
      "source": [
        "# df"
      ],
      "execution_count": null,
      "outputs": []
    },
    {
      "cell_type": "markdown",
      "metadata": {
        "id": "lfamNm3K2IRq"
      },
      "source": [
        "### **Data Visualization** <a id=\"4\"></a>"
      ]
    },
    {
      "cell_type": "markdown",
      "metadata": {
        "id": "AO1vRQ6zKsQL"
      },
      "source": [
        "##### **Suhu Tanah Berbanding Waktu** "
      ]
    },
    {
      "cell_type": "code",
      "metadata": {
        "id": "VG3o-gvWKsQQ"
      },
      "source": [
        "# plt.figure(figsize=(18,10))\n",
        "# plt.plot_date(df['Ts'], df['soilTemp'])\n",
        "# plt.title('Grafik Suhu Tanah berbanding Waktu')\n",
        "# plt.xlabel('Waktu')\n",
        "# plt.ylabel('Temperatur Tanah')\n",
        "# plt.tight_layout()"
      ],
      "execution_count": null,
      "outputs": []
    },
    {
      "cell_type": "code",
      "metadata": {
        "colab": {
          "base_uri": "https://localhost:8080/",
          "height": 612
        },
        "id": "Z3LCugoKntMR",
        "outputId": "2f18853c-ba6b-4df0-cf02-b71d82981b24"
      },
      "source": [
        "plt.figure(figsize=(18,10))\n",
        "temperatur = df['temperature']\n",
        "\n",
        "plt.title('Grafik temperatur berbanding Waktu')\n",
        "plt.xlabel('Waktu')\n",
        "plt.ylabel('Temperatur C')\n",
        "temperatur.plot()"
      ],
      "execution_count": null,
      "outputs": [
        {
          "output_type": "execute_result",
          "data": {
            "text/plain": [
              "<matplotlib.axes._subplots.AxesSubplot at 0x7f27e1742290>"
            ]
          },
          "metadata": {},
          "execution_count": 24
        },
        {
          "output_type": "display_data",
          "data": {
            "image/png": "[encoded data removed]",
            "text/plain": [
              "<Figure size 1296x720 with 1 Axes>"
            ]
          },
          "metadata": {
            "needs_background": "light"
          }
        }
      ]
    },
    {
      "cell_type": "markdown",
      "metadata": {
        "id": "M2LhRUbzFJXu"
      },
      "source": [
        "##### **Suhu Udara Berbanding Waktu**\n"
      ]
    },
    {
      "cell_type": "code",
      "metadata": {
        "id": "2jex7T9NCEnh"
      },
      "source": [
        "# plt.figure(figsize=(18,10))\n",
        "# plt.plot_date(df['Ts'], df['temperature'])\n",
        "# plt.title('Grafik Suhu Udara berbanding Waktu')\n",
        "# plt.xlabel('Waktu')\n",
        "# plt.ylabel('Temperatur Udara')\n",
        "# plt.tight_layout()"
      ],
      "execution_count": null,
      "outputs": []
    },
    {
      "cell_type": "code",
      "metadata": {
        "colab": {
          "base_uri": "https://localhost:8080/"
        },
        "id": "2JjSZtPNn-pE",
        "outputId": "e1f4ed3c-1c1e-400f-fc2e-7fe3c6904b04"
      },
      "source": [
        "plt.figure(figsize=(18,10))\n",
        "temperaturSoil = df['soilTemp']\n",
        "\n",
        "plt.title('Grafik temperatur tanah berbanding Waktu')\n",
        "plt.xlabel('Waktu')\n",
        "plt.ylabel('Temperatur C')\n",
        "temperaturSoil.plot()"
      ],
      "execution_count": null,
      "outputs": [
        {
          "output_type": "execute_result",
          "data": {
            "text/plain": [
              "<matplotlib.axes._subplots.AxesSubplot at 0x7f27e1062d90>"
            ]
          },
          "metadata": {},
          "execution_count": 26
        },
        {
          "output_type": "display_data",
          "data": {
            "image/png": "[encoded data removed]",
            "text/plain": [
              "<Figure size 1296x720 with 1 Axes>"
            ]
          },
          "metadata": {
            "needs_background": "light"
          }
        }
      ]
    },
    {
      "cell_type": "code",
      "metadata": {
        "id": "63eeAKHU2PEh"
      },
      "source": [
        "# plt.figure(figsize=(18,10))\n",
        "# plt.scatter(df['temperature'], df['soilTemp'])\n",
        "# plt.title('Perbandingan Suhu Tanah dan Udara')\n",
        "# plt.xlabel('Temperatur Udara')\n",
        "# plt.ylabel('Temperatur Tanah')"
      ],
      "execution_count": null,
      "outputs": []
    },
    {
      "cell_type": "markdown",
      "metadata": {
        "id": "VUi4rzdWbFYN"
      },
      "source": [
        "##### **Suhu Berbanding Waktu**\n"
      ]
    },
    {
      "cell_type": "code",
      "metadata": {
        "id": "aPIRd71vbFYU"
      },
      "source": [
        "# plt.figure(figsize=(18,10))\n",
        "# plt.plot_date(df['Ts'], df['temperature'], color='red', )\n",
        "# plt.plot_date(df['Ts'], df['soilTemp'], color='blue')\n",
        "# plt.title('Grafik Suhu berbanding Waktu')\n",
        "# plt.xlabel('Waktu')\n",
        "# plt.ylabel('Temperatur')\n",
        "# plt.tight_layout()"
      ],
      "execution_count": null,
      "outputs": []
    },
    {
      "cell_type": "code",
      "metadata": {
        "colab": {
          "base_uri": "https://localhost:8080/",
          "height": 729
        },
        "id": "XrcECCmHokBH",
        "outputId": "9d065f7d-5315-443f-fc0a-21059d938f9f"
      },
      "source": [
        "plt.figure(figsize=(18,10))\n",
        "plt.plot(df['temperature'], color='red', )\n",
        "plt.plot(df['soilTemp'], color='blue')\n",
        "plt.title('Grafik Suhu berbanding Waktu')\n",
        "plt.xlabel('Waktu')\n",
        "plt.ylabel('Temperatur C')\n",
        "plt.tight_layout()"
      ],
      "execution_count": null,
      "outputs": [
        {
          "output_type": "display_data",
          "data": {
            "image/png": "[encoded data removed]",
            "text/plain": [
              "<Figure size 1296x720 with 1 Axes>"
            ]
          },
          "metadata": {
            "needs_background": "light"
          }
        }
      ]
    },
    {
      "cell_type": "markdown",
      "metadata": {
        "id": "UKtG3kD-XNnV"
      },
      "source": [
        "##### **Kelembaban Tanah Berbanding Waktu** "
      ]
    },
    {
      "cell_type": "code",
      "metadata": {
        "id": "WC2lNY3VXNnW"
      },
      "source": [
        "# plt.figure(figsize=(18,10))\n",
        "# plt.scatter(df['Ts'], df['soilHum'])\n",
        "# plt.title('Grafik Kelembaban Tanah berbanding Waktu')\n",
        "# plt.xlabel('Waktu')\n",
        "# plt.ylabel('Kelembaban Tanah')\n",
        "# plt.tight_layout()"
      ],
      "execution_count": null,
      "outputs": []
    },
    {
      "cell_type": "code",
      "metadata": {
        "id": "3G6b061_Xw2s",
        "colab": {
          "base_uri": "https://localhost:8080/"
        },
        "outputId": "4db61e48-2eb9-48f8-8870-da159b497a9b"
      },
      "source": [
        "plt.figure(figsize=(18,10))\n",
        "humidity = df['soilHum']\n",
        "\n",
        "plt.title('Grafik Persentase Kelembaban Tanah berbanding Waktu')\n",
        "plt.xlabel('Waktu')\n",
        "plt.ylabel('Kelembaban %')\n",
        "humidity.plot()"
      ],
      "execution_count": null,
      "outputs": [
        {
          "output_type": "execute_result",
          "data": {
            "text/plain": [
              "<matplotlib.axes._subplots.AxesSubplot at 0x7f27e0694350>"
            ]
          },
          "metadata": {},
          "execution_count": 31
        },
        {
          "output_type": "display_data",
          "data": {
            "image/png": "[encoded data removed]",
            "text/plain": [
              "<Figure size 1296x720 with 1 Axes>"
            ]
          },
          "metadata": {
            "needs_background": "light"
          }
        }
      ]
    },
    {
      "cell_type": "markdown",
      "metadata": {
        "id": "4cHX6MetYOkt"
      },
      "source": [
        "##### **Kelembaban Udara Berbanding Waktu** "
      ]
    },
    {
      "cell_type": "code",
      "metadata": {
        "id": "SladfysdYOku"
      },
      "source": [
        "# plt.figure(figsize=(18,10))\n",
        "# plt.scatter(df['Ts'], df['humidity'])\n",
        "# plt.title('Grafik Kelembaban Udara berbanding Waktu')\n",
        "# plt.xlabel('Waktu')\n",
        "# plt.ylabel('Kelembaban Udara')\n",
        "# plt.tight_layout()"
      ],
      "execution_count": null,
      "outputs": []
    },
    {
      "cell_type": "code",
      "metadata": {
        "id": "mOSVfQgnYOkv",
        "colab": {
          "base_uri": "https://localhost:8080/"
        },
        "outputId": "ab4ed68f-15a2-46dd-f67d-558960437d2c"
      },
      "source": [
        "plt.figure(figsize=(18,10))\n",
        "humidity = df['humidity']\n",
        "\n",
        "plt.title('Grafik Persentase Kelembaban berbanding Waktu')\n",
        "plt.xlabel('Waktu')\n",
        "plt.ylabel('Kelembaban %')\n",
        "humidity.plot()"
      ],
      "execution_count": null,
      "outputs": [
        {
          "output_type": "execute_result",
          "data": {
            "text/plain": [
              "<matplotlib.axes._subplots.AxesSubplot at 0x7f27d7cc4bd0>"
            ]
          },
          "metadata": {},
          "execution_count": 33
        },
        {
          "output_type": "display_data",
          "data": {
            "image/png": "[encoded data removed]",
            "text/plain": [
              "<Figure size 1296x720 with 1 Axes>"
            ]
          },
          "metadata": {
            "needs_background": "light"
          }
        }
      ]
    },
    {
      "cell_type": "markdown",
      "metadata": {
        "id": "xoKYTPYodOP0"
      },
      "source": [
        "##### **Kelembaban Berbanding Waktu**\n"
      ]
    },
    {
      "cell_type": "code",
      "metadata": {
        "colab": {
          "base_uri": "https://localhost:8080/"
        },
        "id": "_kWSZeDTdOQA",
        "outputId": "84a5d550-994e-4915-ecf7-a8c3f72e7eea"
      },
      "source": [
        "plt.figure(figsize=(18,10))\n",
        "plt.plot(df['soilHum'], color='red', )\n",
        "plt.plot(df['humidity'], color='blue')\n",
        "plt.title('Grafik Persentase Kelembaban berbanding Waktu')\n",
        "plt.xlabel('Waktu')\n",
        "plt.ylabel('Kelembaban %')\n",
        "plt.tight_layout()"
      ],
      "execution_count": null,
      "outputs": [
        {
          "output_type": "display_data",
          "data": {
            "image/png": "[encoded data removed]",
            "text/plain": [
              "<Figure size 1296x720 with 1 Axes>"
            ]
          },
          "metadata": {
            "needs_background": "light"
          }
        }
      ]
    },
    {
      "cell_type": "markdown",
      "metadata": {
        "id": "9QaIfddDd6wK"
      },
      "source": [
        "##### **Nilai LDR Berbanding Waktu** "
      ]
    },
    {
      "cell_type": "code",
      "metadata": {
        "id": "1nT0al95d6wR"
      },
      "source": [
        "# plt.figure(figsize=(18,10))\n",
        "# plt.scatter(df['Ts'], df['lightStats'])\n",
        "# plt.title('Grafik Nilai LDR berbanding Waktu')\n",
        "# plt.xlabel('Waktu')\n",
        "# plt.ylabel('LDR')\n",
        "# plt.tight_layout()"
      ],
      "execution_count": null,
      "outputs": []
    },
    {
      "cell_type": "code",
      "metadata": {
        "id": "pHwYYoAOd6wR",
        "colab": {
          "base_uri": "https://localhost:8080/"
        },
        "outputId": "ad020857-2a6b-4ad4-ddbd-7f802106d7db"
      },
      "source": [
        "LDROutput = df['lightStats']\n",
        "plt.figure(figsize=(18,10))\n",
        "\n",
        "\n",
        "plt.title('Grafik Nilai LDR berbanding Waktu')\n",
        "plt.xlabel('Waktu')\n",
        "plt.ylabel('LDR')\n",
        "LDROutput.plot()"
      ],
      "execution_count": null,
      "outputs": [
        {
          "output_type": "execute_result",
          "data": {
            "text/plain": [
              "<matplotlib.axes._subplots.AxesSubplot at 0x7f27d7a63450>"
            ]
          },
          "metadata": {},
          "execution_count": 36
        },
        {
          "output_type": "display_data",
          "data": {
            "image/png": "[encoded data removed]",
            "text/plain": [
              "<Figure size 1296x720 with 1 Axes>"
            ]
          },
          "metadata": {
            "needs_background": "light"
          }
        }
      ]
    },
    {
      "cell_type": "markdown",
      "metadata": {
        "id": "WPDcjO6Fty4v"
      },
      "source": [
        "##### **Pump Status** "
      ]
    },
    {
      "cell_type": "code",
      "metadata": {
        "colab": {
          "base_uri": "https://localhost:8080/",
          "height": 611
        },
        "id": "MgYgjenpty40",
        "outputId": "cb722348-a1a8-49e8-ae5a-028b0e0c8cbf"
      },
      "source": [
        "plt.figure(figsize=(18,10))\n",
        "sn.set(style=\"darkgrid\")\n",
        "ax = sn.countplot(x=\"pumpStatus\", data=df, palette=\"Set1\")"
      ],
      "execution_count": null,
      "outputs": [
        {
          "output_type": "display_data",
          "data": {
            "image/png": "[encoded data removed]",
            "text/plain": [
              "<Figure size 1296x720 with 1 Axes>"
            ]
          },
          "metadata": {
            "needs_background": "light"
          }
        }
      ]
    },
    {
      "cell_type": "code",
      "metadata": {
        "colab": {
          "base_uri": "https://localhost:8080/"
        },
        "id": "9fx9H-Cs6bwj",
        "outputId": "ef6a9616-62e2-4bf7-9aff-87bbd66dddad"
      },
      "source": [
        "df2['pumpStatus'].value_counts()"
      ],
      "execution_count": null,
      "outputs": [
        {
          "output_type": "execute_result",
          "data": {
            "text/plain": [
              "0    25787\n",
              "1       43\n",
              "Name: pumpStatus, dtype: int64"
            ]
          },
          "metadata": {},
          "execution_count": 81
        }
      ]
    },
    {
      "cell_type": "markdown",
      "metadata": {
        "id": "jPiGmmQkyIoL"
      },
      "source": [
        "#### **Heatmapped Data** <a id=\"4\"></a>"
      ]
    },
    {
      "cell_type": "code",
      "metadata": {
        "colab": {
          "base_uri": "https://localhost:8080/"
        },
        "id": "XLV6YuAbxgBX",
        "outputId": "ae4b3c1f-63d3-4825-99ec-360a42c50bc6"
      },
      "source": [
        "y = df['pumpStatus']\n",
        "# x = x.drop('pumpStatus',axis=1)\n",
        "x"
      ],
      "execution_count": null,
      "outputs": [
        {
          "output_type": "execute_result",
          "data": {
            "text/html": [
              "<div>\n",
              "<style scoped>\n",
              "    .dataframe tbody tr th:only-of-type {\n",
              "        vertical-align: middle;\n",
              "    }\n",
              "\n",
              "    .dataframe tbody tr th {\n",
              "        vertical-align: top;\n",
              "    }\n",
              "\n",
              "    .dataframe thead th {\n",
              "        text-align: right;\n",
              "    }\n",
              "</style>\n",
              "<table border=\"1\" class=\"dataframe\">\n",
              "  <thead>\n",
              "    <tr style=\"text-align: right;\">\n",
              "      <th></th>\n",
              "      <th>Ts</th>\n",
              "      <th>humidity</th>\n",
              "      <th>lightStats</th>\n",
              "      <th>pumpStatus</th>\n",
              "      <th>soilHum</th>\n",
              "      <th>soilTemp</th>\n",
              "      <th>temperature</th>\n",
              "    </tr>\n",
              "  </thead>\n",
              "  <tbody>\n",
              "    <tr>\n",
              "      <th>0</th>\n",
              "      <td>1635147131999</td>\n",
              "      <td>71.6</td>\n",
              "      <td>215</td>\n",
              "      <td>0</td>\n",
              "      <td>97</td>\n",
              "      <td>27.8125</td>\n",
              "      <td>29.5</td>\n",
              "    </tr>\n",
              "    <tr>\n",
              "      <th>1</th>\n",
              "      <td>1635147191641</td>\n",
              "      <td>72.8</td>\n",
              "      <td>217</td>\n",
              "      <td>0</td>\n",
              "      <td>96</td>\n",
              "      <td>27.8125</td>\n",
              "      <td>29.5</td>\n",
              "    </tr>\n",
              "    <tr>\n",
              "      <th>2</th>\n",
              "      <td>1635147221444</td>\n",
              "      <td>73.2</td>\n",
              "      <td>208</td>\n",
              "      <td>0</td>\n",
              "      <td>96</td>\n",
              "      <td>27.8125</td>\n",
              "      <td>29.5</td>\n",
              "    </tr>\n",
              "    <tr>\n",
              "      <th>3</th>\n",
              "      <td>1635147251257</td>\n",
              "      <td>72.8</td>\n",
              "      <td>210</td>\n",
              "      <td>0</td>\n",
              "      <td>96</td>\n",
              "      <td>27.8125</td>\n",
              "      <td>29.5</td>\n",
              "    </tr>\n",
              "    <tr>\n",
              "      <th>4</th>\n",
              "      <td>1635148033290</td>\n",
              "      <td>74.8</td>\n",
              "      <td>275</td>\n",
              "      <td>0</td>\n",
              "      <td>93</td>\n",
              "      <td>27.8750</td>\n",
              "      <td>29.3</td>\n",
              "    </tr>\n",
              "    <tr>\n",
              "      <th>...</th>\n",
              "      <td>...</td>\n",
              "      <td>...</td>\n",
              "      <td>...</td>\n",
              "      <td>...</td>\n",
              "      <td>...</td>\n",
              "      <td>...</td>\n",
              "      <td>...</td>\n",
              "    </tr>\n",
              "    <tr>\n",
              "      <th>25825</th>\n",
              "      <td>1635835481925</td>\n",
              "      <td>93.1</td>\n",
              "      <td>608</td>\n",
              "      <td>0</td>\n",
              "      <td>83</td>\n",
              "      <td>27.6250</td>\n",
              "      <td>26.8</td>\n",
              "    </tr>\n",
              "    <tr>\n",
              "      <th>25826</th>\n",
              "      <td>1635835511753</td>\n",
              "      <td>93.2</td>\n",
              "      <td>623</td>\n",
              "      <td>0</td>\n",
              "      <td>83</td>\n",
              "      <td>27.5625</td>\n",
              "      <td>26.9</td>\n",
              "    </tr>\n",
              "    <tr>\n",
              "      <th>25827</th>\n",
              "      <td>1635835542535</td>\n",
              "      <td>93.1</td>\n",
              "      <td>628</td>\n",
              "      <td>0</td>\n",
              "      <td>83</td>\n",
              "      <td>27.5625</td>\n",
              "      <td>26.9</td>\n",
              "    </tr>\n",
              "    <tr>\n",
              "      <th>25828</th>\n",
              "      <td>1635835571752</td>\n",
              "      <td>92.6</td>\n",
              "      <td>643</td>\n",
              "      <td>0</td>\n",
              "      <td>82</td>\n",
              "      <td>27.5625</td>\n",
              "      <td>26.8</td>\n",
              "    </tr>\n",
              "    <tr>\n",
              "      <th>25829</th>\n",
              "      <td>1635835601566</td>\n",
              "      <td>92.6</td>\n",
              "      <td>640</td>\n",
              "      <td>0</td>\n",
              "      <td>83</td>\n",
              "      <td>27.5625</td>\n",
              "      <td>26.8</td>\n",
              "    </tr>\n",
              "  </tbody>\n",
              "</table>\n",
              "<p>25830 rows × 7 columns</p>\n",
              "</div>"
            ],
            "text/plain": [
              "                  Ts  humidity  lightStats  ...  soilHum  soilTemp  temperature\n",
              "0      1635147131999      71.6         215  ...       97   27.8125         29.5\n",
              "1      1635147191641      72.8         217  ...       96   27.8125         29.5\n",
              "2      1635147221444      73.2         208  ...       96   27.8125         29.5\n",
              "3      1635147251257      72.8         210  ...       96   27.8125         29.5\n",
              "4      1635148033290      74.8         275  ...       93   27.8750         29.3\n",
              "...              ...       ...         ...  ...      ...       ...          ...\n",
              "25825  1635835481925      93.1         608  ...       83   27.6250         26.8\n",
              "25826  1635835511753      93.2         623  ...       83   27.5625         26.9\n",
              "25827  1635835542535      93.1         628  ...       83   27.5625         26.9\n",
              "25828  1635835571752      92.6         643  ...       82   27.5625         26.8\n",
              "25829  1635835601566      92.6         640  ...       83   27.5625         26.8\n",
              "\n",
              "[25830 rows x 7 columns]"
            ]
          },
          "metadata": {},
          "execution_count": 38
        }
      ]
    },
    {
      "cell_type": "code",
      "metadata": {
        "colab": {
          "base_uri": "https://localhost:8080/"
        },
        "id": "tNR9LkfnyWxn",
        "outputId": "36375610-a13c-46dd-e712-b92b7b9f7ae8"
      },
      "source": [
        "corr = x.corr()\n",
        "f, ax = plt.subplots(figsize = (15,15))\n",
        "sn.heatmap(corr, annot=True, fmt=\".2f\", linewidths=0.5, ax=ax)"
      ],
      "execution_count": null,
      "outputs": [
        {
          "output_type": "execute_result",
          "data": {
            "text/plain": [
              "<matplotlib.axes._subplots.AxesSubplot at 0x7f27e068fd50>"
            ]
          },
          "metadata": {},
          "execution_count": 39
        },
        {
          "output_type": "display_data",
          "data": {
            "image/png": "[encoded data removed]",
            "text/plain": [
              "<Figure size 1080x1080 with 2 Axes>"
            ]
          },
          "metadata": {}
        }
      ]
    },
    {
      "cell_type": "markdown",
      "metadata": {
        "id": "xEB1eiBGunIC"
      },
      "source": [
        "### **Splitting Data** <a id=\"4\"></a>"
      ]
    },
    {
      "cell_type": "code",
      "metadata": {
        "id": "dldT-W4auqHT"
      },
      "source": [
        "feature_cols = ['Ts','humidity','lightStats','soilHum','soilTemp','temperature']\n",
        "X = x[feature_cols] # features for the prediction\n",
        "y = df2.pumpStatus"
      ],
      "execution_count": null,
      "outputs": []
    },
    {
      "cell_type": "code",
      "metadata": {
        "colab": {
          "base_uri": "https://localhost:8080/"
        },
        "id": "4-x27U2SveYw",
        "outputId": "1fe9e83e-f831-4817-af54-97b167fc3924"
      },
      "source": [
        "X_train,X_test,y_train, y_test = train_test_split(X,y,test_size = 0.20, random_state =0)\n",
        "display(X_train.shape, y_train.shape, X_test.shape, y_test)"
      ],
      "execution_count": null,
      "outputs": [
        {
          "output_type": "display_data",
          "data": {
            "text/plain": [
              "(20664, 6)"
            ]
          },
          "metadata": {}
        },
        {
          "output_type": "display_data",
          "data": {
            "text/plain": [
              "(20664,)"
            ]
          },
          "metadata": {}
        },
        {
          "output_type": "display_data",
          "data": {
            "text/plain": [
              "(5166, 6)"
            ]
          },
          "metadata": {}
        },
        {
          "output_type": "display_data",
          "data": {
            "text/plain": [
              "19627    0\n",
              "20721    0\n",
              "24231    0\n",
              "13152    0\n",
              "4036     0\n",
              "        ..\n",
              "23264    0\n",
              "11469    0\n",
              "15002    0\n",
              "11942    0\n",
              "15611    0\n",
              "Name: pumpStatus, Length: 5166, dtype: int64"
            ]
          },
          "metadata": {}
        }
      ]
    },
    {
      "cell_type": "markdown",
      "metadata": {
        "id": "1XErQ52XtOCc"
      },
      "source": [
        "### **Testing using Feature Column** <a id=\"4\"></a>"
      ]
    },
    {
      "cell_type": "code",
      "metadata": {
        "id": "gg1MMxL5vsDg"
      },
      "source": [
        "feat_cols = []\n",
        "df = X_train\n",
        "for col in df.columns:\n",
        "  if ptypes.is_string_dtype(df[col]): #is_string_dtype is pandas function\n",
        "    feat_cols.append(tf.feature_column.categorical_column_with_hash_bucket(col, \n",
        "        hash_bucket_size= len(df[col].unique())))\n",
        "\n",
        "  elif ptypes.is_numeric_dtype(df[col]): #is_numeric_dtype is pandas function\n",
        "    feat_cols.append(tf.feature_column.numeric_column(col))"
      ],
      "execution_count": null,
      "outputs": []
    },
    {
      "cell_type": "code",
      "metadata": {
        "colab": {
          "base_uri": "https://localhost:8080/"
        },
        "id": "0sP_EklFvtGx",
        "outputId": "bf79180e-ed84-4f4c-cd30-b48a62e12d7f"
      },
      "source": [
        "print(feat_cols)"
      ],
      "execution_count": null,
      "outputs": [
        {
          "output_type": "stream",
          "name": "stdout",
          "text": [
            "[NumericColumn(key='Ts', shape=(1,), default_value=None, dtype=tf.float32, normalizer_fn=None), NumericColumn(key='humidity', shape=(1,), default_value=None, dtype=tf.float32, normalizer_fn=None), NumericColumn(key='lightStats', shape=(1,), default_value=None, dtype=tf.float32, normalizer_fn=None), NumericColumn(key='soilHum', shape=(1,), default_value=None, dtype=tf.float32, normalizer_fn=None), NumericColumn(key='soilTemp', shape=(1,), default_value=None, dtype=tf.float32, normalizer_fn=None), NumericColumn(key='temperature', shape=(1,), default_value=None, dtype=tf.float32, normalizer_fn=None)]\n"
          ]
        }
      ]
    },
    {
      "cell_type": "code",
      "metadata": {
        "colab": {
          "base_uri": "https://localhost:8080/"
        },
        "id": "U2sOasVrvuyq",
        "outputId": "f6674971-49fa-42bb-bc78-648708c1e65a"
      },
      "source": [
        "classifier = tf.estimator.DNNClassifier(\n",
        "        feature_columns=feat_cols,\n",
        "        # Two hidden layers of 20 nodes each.\n",
        "        hidden_units=[20, 20],\n",
        "        # The model must choose between 2 classes.\n",
        "        n_classes=2)"
      ],
      "execution_count": null,
      "outputs": [
        {
          "output_type": "stream",
          "name": "stdout",
          "text": [
            "INFO:tensorflow:Using default config.\n",
            "WARNING:tensorflow:Using temporary folder as model directory: /tmp/tmp0j_g28z1\n",
            "INFO:tensorflow:Using config: {'_model_dir': '/tmp/tmp0j_g28z1', '_tf_random_seed': None, '_save_summary_steps': 100, '_save_checkpoints_steps': None, '_save_checkpoints_secs': 600, '_session_config': allow_soft_placement: true\n",
            "graph_options {\n",
            "  rewrite_options {\n",
            "    meta_optimizer_iterations: ONE\n",
            "  }\n",
            "}\n",
            ", '_keep_checkpoint_max': 5, '_keep_checkpoint_every_n_hours': 10000, '_log_step_count_steps': 100, '_train_distribute': None, '_device_fn': None, '_protocol': None, '_eval_distribute': None, '_experimental_distribute': None, '_experimental_max_worker_delay_secs': None, '_session_creation_timeout_secs': 7200, '_checkpoint_save_graph_def': True, '_service': None, '_cluster_spec': ClusterSpec({}), '_task_type': 'worker', '_task_id': 0, '_global_id_in_cluster': 0, '_master': '', '_evaluation_master': '', '_is_chief': True, '_num_ps_replicas': 0, '_num_worker_replicas': 1}\n"
          ]
        }
      ]
    },
    {
      "cell_type": "code",
      "metadata": {
        "colab": {
          "base_uri": "https://localhost:8080/"
        },
        "id": "vmyS1ymPvwrC",
        "outputId": "109dab54-afe2-450a-b34a-c30bbd634ed7"
      },
      "source": [
        "input_func = tf.compat.v1.estimator.inputs.pandas_input_fn(x=X_train,y=y_train ,batch_size=10,num_epochs=500, shuffle=True)"
      ],
      "execution_count": null,
      "outputs": [
        {
          "output_type": "stream",
          "name": "stdout",
          "text": [
            "WARNING:tensorflow:From /usr/local/lib/python3.7/dist-packages/tensorflow/python/util/lazy_loader.py:63: The name tf.estimator.inputs is deprecated. Please use tf.compat.v1.estimator.inputs instead.\n",
            "\n"
          ]
        }
      ]
    },
    {
      "cell_type": "code",
      "metadata": {
        "colab": {
          "base_uri": "https://localhost:8080/"
        },
        "id": "6wCWej1gvy_p",
        "outputId": "5714c345-17a5-44c6-81e7-dfe7a9827700"
      },
      "source": [
        "classifier.train(input_fn=input_func, steps=10000)"
      ],
      "execution_count": null,
      "outputs": [
        {
          "output_type": "stream",
          "name": "stdout",
          "text": [
            "WARNING:tensorflow:From /usr/local/lib/python3.7/dist-packages/tensorflow/python/training/training_util.py:236: Variable.initialized_value (from tensorflow.python.ops.variables) is deprecated and will be removed in a future version.\n",
            "Instructions for updating:\n",
            "Use Variable.read_value. Variables in 2.X are initialized automatically both in eager and graph (inside tf.defun) contexts.\n",
            "WARNING:tensorflow:From /usr/local/lib/python3.7/dist-packages/tensorflow_estimator/python/estimator/inputs/queues/feeding_queue_runner.py:65: QueueRunner.__init__ (from tensorflow.python.training.queue_runner_impl) is deprecated and will be removed in a future version.\n",
            "Instructions for updating:\n",
            "To construct input pipelines, use the `tf.data` module.\n",
            "WARNING:tensorflow:From /usr/local/lib/python3.7/dist-packages/tensorflow_estimator/python/estimator/inputs/queues/feeding_functions.py:491: add_queue_runner (from tensorflow.python.training.queue_runner_impl) is deprecated and will be removed in a future version.\n",
            "Instructions for updating:\n",
            "To construct input pipelines, use the `tf.data` module.\n",
            "INFO:tensorflow:Calling model_fn.\n",
            "WARNING:tensorflow:From /usr/local/lib/python3.7/dist-packages/keras/optimizer_v2/adagrad.py:84: calling Constant.__init__ (from tensorflow.python.ops.init_ops) with dtype is deprecated and will be removed in a future version.\n",
            "Instructions for updating:\n",
            "Call initializer instance with the dtype argument instead of passing it to the constructor\n",
            "INFO:tensorflow:Done calling model_fn.\n",
            "INFO:tensorflow:Create CheckpointSaverHook.\n",
            "INFO:tensorflow:Graph was finalized.\n",
            "INFO:tensorflow:Running local_init_op.\n",
            "INFO:tensorflow:Done running local_init_op.\n",
            "WARNING:tensorflow:From /usr/local/lib/python3.7/dist-packages/tensorflow/python/training/monitored_session.py:907: start_queue_runners (from tensorflow.python.training.queue_runner_impl) is deprecated and will be removed in a future version.\n",
            "Instructions for updating:\n",
            "To construct input pipelines, use the `tf.data` module.\n",
            "INFO:tensorflow:Calling checkpoint listeners before saving checkpoint 0...\n",
            "INFO:tensorflow:Saving checkpoints for 0 into /tmp/tmp0j_g28z1/model.ckpt.\n",
            "INFO:tensorflow:Calling checkpoint listeners after saving checkpoint 0...\n",
            "INFO:tensorflow:loss = 0.0, step = 0\n",
            "INFO:tensorflow:global_step/sec: 341.985\n",
            "INFO:tensorflow:loss = 0.0, step = 100 (0.302 sec)\n",
            "INFO:tensorflow:global_step/sec: 347.77\n",
            "INFO:tensorflow:loss = 0.0, step = 200 (0.288 sec)\n",
            "INFO:tensorflow:global_step/sec: 339.439\n",
            "INFO:tensorflow:loss = 0.0, step = 300 (0.286 sec)\n",
            "INFO:tensorflow:global_step/sec: 355.616\n",
            "INFO:tensorflow:loss = 0.0, step = 400 (0.286 sec)\n",
            "INFO:tensorflow:global_step/sec: 336.471\n",
            "INFO:tensorflow:loss = 0.0, step = 500 (0.301 sec)\n",
            "INFO:tensorflow:global_step/sec: 388.12\n",
            "INFO:tensorflow:loss = 0.0, step = 600 (0.268 sec)\n",
            "INFO:tensorflow:global_step/sec: 370.655\n",
            "INFO:tensorflow:loss = 0.0, step = 700 (0.255 sec)\n",
            "INFO:tensorflow:global_step/sec: 341.765\n",
            "INFO:tensorflow:loss = 0.0, step = 800 (0.295 sec)\n",
            "INFO:tensorflow:global_step/sec: 357.651\n",
            "INFO:tensorflow:loss = 0.0, step = 900 (0.280 sec)\n",
            "INFO:tensorflow:global_step/sec: 355.289\n",
            "INFO:tensorflow:loss = 0.0, step = 1000 (0.287 sec)\n",
            "INFO:tensorflow:global_step/sec: 366.618\n",
            "INFO:tensorflow:loss = 0.0, step = 1100 (0.277 sec)\n",
            "INFO:tensorflow:global_step/sec: 349.86\n",
            "INFO:tensorflow:loss = 0.0, step = 1200 (0.272 sec)\n",
            "INFO:tensorflow:global_step/sec: 339.458\n",
            "INFO:tensorflow:loss = 0.0, step = 1300 (0.299 sec)\n",
            "INFO:tensorflow:global_step/sec: 319.756\n",
            "INFO:tensorflow:loss = 0.0, step = 1400 (0.306 sec)\n",
            "INFO:tensorflow:global_step/sec: 385.325\n",
            "INFO:tensorflow:loss = 0.0, step = 1500 (0.262 sec)\n",
            "INFO:tensorflow:global_step/sec: 370.239\n",
            "INFO:tensorflow:loss = 0.0, step = 1600 (0.276 sec)\n",
            "INFO:tensorflow:global_step/sec: 355.646\n",
            "INFO:tensorflow:loss = 0.0, step = 1700 (0.281 sec)\n",
            "INFO:tensorflow:global_step/sec: 330.104\n",
            "INFO:tensorflow:loss = 0.0, step = 1800 (0.305 sec)\n",
            "INFO:tensorflow:global_step/sec: 365.735\n",
            "INFO:tensorflow:loss = 0.0, step = 1900 (0.264 sec)\n",
            "INFO:tensorflow:global_step/sec: 372.497\n",
            "INFO:tensorflow:loss = 0.0, step = 2000 (0.276 sec)\n",
            "INFO:tensorflow:global_step/sec: 393.193\n",
            "INFO:tensorflow:loss = 0.0, step = 2100 (0.257 sec)\n",
            "INFO:tensorflow:global_step/sec: 346.703\n",
            "INFO:tensorflow:loss = 0.0, step = 2200 (0.288 sec)\n",
            "INFO:tensorflow:global_step/sec: 333.211\n",
            "INFO:tensorflow:loss = 0.0, step = 2300 (0.298 sec)\n",
            "INFO:tensorflow:global_step/sec: 383.587\n",
            "INFO:tensorflow:loss = 0.0, step = 2400 (0.263 sec)\n",
            "INFO:tensorflow:global_step/sec: 359.981\n",
            "INFO:tensorflow:loss = 0.0, step = 2500 (0.272 sec)\n",
            "INFO:tensorflow:global_step/sec: 348.624\n",
            "INFO:tensorflow:loss = 0.0, step = 2600 (0.286 sec)\n",
            "INFO:tensorflow:global_step/sec: 365.957\n",
            "INFO:tensorflow:loss = 0.0, step = 2700 (0.270 sec)\n",
            "INFO:tensorflow:global_step/sec: 380.668\n",
            "INFO:tensorflow:loss = 0.0, step = 2800 (0.261 sec)\n",
            "INFO:tensorflow:global_step/sec: 399.607\n",
            "INFO:tensorflow:loss = 0.0, step = 2900 (0.254 sec)\n",
            "INFO:tensorflow:global_step/sec: 426.658\n",
            "INFO:tensorflow:loss = 0.0, step = 3000 (0.249 sec)\n",
            "INFO:tensorflow:global_step/sec: 359.087\n",
            "INFO:tensorflow:loss = 0.0, step = 3100 (0.277 sec)\n",
            "INFO:tensorflow:global_step/sec: 367.808\n",
            "INFO:tensorflow:loss = 0.0, step = 3200 (0.266 sec)\n",
            "INFO:tensorflow:global_step/sec: 386.57\n",
            "INFO:tensorflow:loss = 0.0, step = 3300 (0.248 sec)\n",
            "INFO:tensorflow:global_step/sec: 400.218\n",
            "INFO:tensorflow:loss = 0.0, step = 3400 (0.250 sec)\n",
            "INFO:tensorflow:global_step/sec: 439.129\n",
            "INFO:tensorflow:loss = 0.0, step = 3500 (0.239 sec)\n",
            "INFO:tensorflow:global_step/sec: 415.184\n",
            "INFO:tensorflow:loss = 0.0, step = 3600 (0.229 sec)\n",
            "WARNING:tensorflow:It seems that global step (tf.train.get_global_step) has not been increased. Current value (could be stable): 3643 vs previous value: 3643. You could increase the global step by passing tf.train.get_global_step() to Optimizer.apply_gradients or Optimizer.minimize.\n",
            "INFO:tensorflow:global_step/sec: 392.068\n",
            "INFO:tensorflow:loss = 0.0, step = 3700 (0.266 sec)\n",
            "INFO:tensorflow:global_step/sec: 389.655\n",
            "INFO:tensorflow:loss = 0.0, step = 3800 (0.252 sec)\n",
            "INFO:tensorflow:global_step/sec: 427.62\n",
            "INFO:tensorflow:loss = 0.0, step = 3900 (0.231 sec)\n",
            "INFO:tensorflow:global_step/sec: 388.059\n",
            "INFO:tensorflow:loss = 0.0, step = 4000 (0.266 sec)\n",
            "INFO:tensorflow:global_step/sec: 380.648\n",
            "INFO:tensorflow:loss = 0.0, step = 4100 (0.258 sec)\n",
            "INFO:tensorflow:global_step/sec: 436.845\n",
            "INFO:tensorflow:loss = 0.0, step = 4200 (0.224 sec)\n",
            "INFO:tensorflow:global_step/sec: 372.382\n",
            "INFO:tensorflow:loss = 0.0, step = 4300 (0.270 sec)\n",
            "INFO:tensorflow:global_step/sec: 364.928\n",
            "INFO:tensorflow:loss = 0.0, step = 4400 (0.274 sec)\n",
            "INFO:tensorflow:global_step/sec: 414.877\n",
            "INFO:tensorflow:loss = 0.0, step = 4500 (0.238 sec)\n",
            "INFO:tensorflow:global_step/sec: 365.4\n",
            "INFO:tensorflow:loss = 0.0, step = 4600 (0.281 sec)\n",
            "INFO:tensorflow:global_step/sec: 423.234\n",
            "INFO:tensorflow:loss = 0.0, step = 4700 (0.227 sec)\n",
            "INFO:tensorflow:global_step/sec: 368.419\n",
            "INFO:tensorflow:loss = 0.0, step = 4800 (0.273 sec)\n",
            "INFO:tensorflow:global_step/sec: 438.424\n",
            "INFO:tensorflow:loss = 0.0, step = 4900 (0.227 sec)\n",
            "INFO:tensorflow:global_step/sec: 446.678\n",
            "INFO:tensorflow:loss = 0.0, step = 5000 (0.226 sec)\n",
            "INFO:tensorflow:global_step/sec: 404.492\n",
            "INFO:tensorflow:loss = 0.0, step = 5100 (0.247 sec)\n",
            "INFO:tensorflow:global_step/sec: 429.165\n",
            "INFO:tensorflow:loss = 0.0, step = 5200 (0.248 sec)\n",
            "WARNING:tensorflow:It seems that global step (tf.train.get_global_step) has not been increased. Current value (could be stable): 5202 vs previous value: 5202. You could increase the global step by passing tf.train.get_global_step() to Optimizer.apply_gradients or Optimizer.minimize.\n",
            "INFO:tensorflow:global_step/sec: 378.717\n",
            "INFO:tensorflow:loss = 0.0, step = 5300 (0.258 sec)\n",
            "WARNING:tensorflow:It seems that global step (tf.train.get_global_step) has not been increased. Current value (could be stable): 5306 vs previous value: 5306. You could increase the global step by passing tf.train.get_global_step() to Optimizer.apply_gradients or Optimizer.minimize.\n",
            "INFO:tensorflow:global_step/sec: 387.692\n",
            "INFO:tensorflow:loss = 0.0, step = 5400 (0.260 sec)\n",
            "INFO:tensorflow:global_step/sec: 365.084\n",
            "INFO:tensorflow:loss = 0.0, step = 5500 (0.264 sec)\n",
            "INFO:tensorflow:global_step/sec: 394.235\n",
            "INFO:tensorflow:loss = 0.0, step = 5600 (0.257 sec)\n",
            "INFO:tensorflow:global_step/sec: 434.875\n",
            "INFO:tensorflow:loss = 0.0, step = 5700 (0.233 sec)\n",
            "WARNING:tensorflow:It seems that global step (tf.train.get_global_step) has not been increased. Current value (could be stable): 5746 vs previous value: 5746. You could increase the global step by passing tf.train.get_global_step() to Optimizer.apply_gradients or Optimizer.minimize.\n",
            "INFO:tensorflow:global_step/sec: 396.723\n",
            "INFO:tensorflow:loss = 0.0, step = 5800 (0.243 sec)\n",
            "INFO:tensorflow:global_step/sec: 419.696\n",
            "INFO:tensorflow:loss = 0.0, step = 5900 (0.243 sec)\n",
            "INFO:tensorflow:global_step/sec: 386.193\n",
            "INFO:tensorflow:loss = 0.0, step = 6000 (0.257 sec)\n",
            "WARNING:tensorflow:It seems that global step (tf.train.get_global_step) has not been increased. Current value (could be stable): 6083 vs previous value: 6083. You could increase the global step by passing tf.train.get_global_step() to Optimizer.apply_gradients or Optimizer.minimize.\n",
            "INFO:tensorflow:global_step/sec: 367.252\n",
            "INFO:tensorflow:loss = 0.0, step = 6100 (0.269 sec)\n",
            "INFO:tensorflow:global_step/sec: 368.484\n",
            "INFO:tensorflow:loss = 0.0, step = 6200 (0.278 sec)\n",
            "INFO:tensorflow:global_step/sec: 356.222\n",
            "INFO:tensorflow:loss = 0.0, step = 6300 (0.280 sec)\n",
            "INFO:tensorflow:global_step/sec: 361.619\n",
            "INFO:tensorflow:loss = 0.0, step = 6400 (0.270 sec)\n",
            "INFO:tensorflow:global_step/sec: 328.597\n",
            "INFO:tensorflow:loss = 0.0, step = 6500 (0.314 sec)\n",
            "INFO:tensorflow:global_step/sec: 378.38\n",
            "INFO:tensorflow:loss = 0.0, step = 6600 (0.268 sec)\n",
            "INFO:tensorflow:global_step/sec: 313.024\n",
            "INFO:tensorflow:loss = 0.0, step = 6700 (0.312 sec)\n",
            "INFO:tensorflow:global_step/sec: 377.187\n",
            "INFO:tensorflow:loss = 0.0, step = 6800 (0.260 sec)\n",
            "INFO:tensorflow:global_step/sec: 333.374\n",
            "INFO:tensorflow:loss = 0.0, step = 6900 (0.307 sec)\n",
            "INFO:tensorflow:global_step/sec: 351.263\n",
            "INFO:tensorflow:loss = 0.0, step = 7000 (0.279 sec)\n",
            "INFO:tensorflow:global_step/sec: 375.115\n",
            "INFO:tensorflow:loss = 7331003400.0, step = 7100 (0.278 sec)\n",
            "INFO:tensorflow:global_step/sec: 358.012\n",
            "INFO:tensorflow:loss = 0.0, step = 7200 (0.271 sec)\n",
            "INFO:tensorflow:global_step/sec: 406.705\n",
            "INFO:tensorflow:loss = 0.0, step = 7300 (0.241 sec)\n",
            "INFO:tensorflow:global_step/sec: 380.835\n",
            "INFO:tensorflow:loss = 0.0, step = 7400 (0.275 sec)\n",
            "INFO:tensorflow:global_step/sec: 393.909\n",
            "INFO:tensorflow:loss = 0.0, step = 7500 (0.247 sec)\n",
            "INFO:tensorflow:global_step/sec: 379.539\n",
            "INFO:tensorflow:loss = 0.0, step = 7600 (0.258 sec)\n",
            "INFO:tensorflow:global_step/sec: 390.876\n",
            "INFO:tensorflow:loss = 0.0, step = 7700 (0.269 sec)\n",
            "INFO:tensorflow:global_step/sec: 362.474\n",
            "INFO:tensorflow:loss = 0.0, step = 7800 (0.265 sec)\n",
            "INFO:tensorflow:global_step/sec: 373.822\n",
            "INFO:tensorflow:loss = 0.0, step = 7900 (0.269 sec)\n",
            "INFO:tensorflow:global_step/sec: 346.576\n",
            "INFO:tensorflow:loss = 0.0, step = 8000 (0.302 sec)\n",
            "INFO:tensorflow:global_step/sec: 344.15\n",
            "INFO:tensorflow:loss = 0.0, step = 8100 (0.289 sec)\n",
            "INFO:tensorflow:global_step/sec: 352.341\n",
            "INFO:tensorflow:loss = 0.0, step = 8200 (0.281 sec)\n",
            "INFO:tensorflow:global_step/sec: 371.688\n",
            "INFO:tensorflow:loss = 0.0, step = 8300 (0.263 sec)\n",
            "INFO:tensorflow:global_step/sec: 377.455\n",
            "INFO:tensorflow:loss = 0.0, step = 8400 (0.270 sec)\n",
            "INFO:tensorflow:global_step/sec: 352.725\n",
            "INFO:tensorflow:loss = 0.0, step = 8500 (0.272 sec)\n",
            "INFO:tensorflow:global_step/sec: 322.551\n",
            "INFO:tensorflow:loss = 0.0, step = 8600 (0.324 sec)\n",
            "INFO:tensorflow:global_step/sec: 332.757\n",
            "INFO:tensorflow:loss = 0.0, step = 8700 (0.285 sec)\n",
            "INFO:tensorflow:global_step/sec: 246.317\n",
            "INFO:tensorflow:loss = 0.0, step = 8800 (0.423 sec)\n",
            "INFO:tensorflow:global_step/sec: 257.924\n",
            "INFO:tensorflow:loss = 0.0, step = 8900 (0.377 sec)\n",
            "INFO:tensorflow:global_step/sec: 294.417\n",
            "INFO:tensorflow:loss = 0.0, step = 9000 (0.339 sec)\n",
            "INFO:tensorflow:global_step/sec: 312.287\n",
            "INFO:tensorflow:loss = 0.0, step = 9100 (0.314 sec)\n",
            "INFO:tensorflow:global_step/sec: 312.076\n",
            "INFO:tensorflow:loss = 0.0, step = 9200 (0.330 sec)\n",
            "INFO:tensorflow:global_step/sec: 341.719\n",
            "INFO:tensorflow:loss = 0.0, step = 9300 (0.290 sec)\n",
            "INFO:tensorflow:global_step/sec: 365.634\n",
            "INFO:tensorflow:loss = 0.0, step = 9400 (0.271 sec)\n",
            "INFO:tensorflow:global_step/sec: 370.199\n",
            "INFO:tensorflow:loss = 0.0, step = 9500 (0.277 sec)\n",
            "INFO:tensorflow:global_step/sec: 322.086\n",
            "INFO:tensorflow:loss = 0.0, step = 9600 (0.310 sec)\n",
            "INFO:tensorflow:global_step/sec: 374.213\n",
            "INFO:tensorflow:loss = 0.0, step = 9700 (0.265 sec)\n",
            "INFO:tensorflow:global_step/sec: 396.2\n",
            "INFO:tensorflow:loss = 0.0, step = 9800 (0.250 sec)\n",
            "INFO:tensorflow:global_step/sec: 367.932\n",
            "INFO:tensorflow:loss = 0.0, step = 9900 (0.275 sec)\n",
            "INFO:tensorflow:Calling checkpoint listeners before saving checkpoint 10000...\n",
            "INFO:tensorflow:Saving checkpoints for 10000 into /tmp/tmp0j_g28z1/model.ckpt.\n",
            "INFO:tensorflow:Calling checkpoint listeners after saving checkpoint 10000...\n",
            "INFO:tensorflow:Loss for final step: 0.0.\n"
          ]
        },
        {
          "output_type": "execute_result",
          "data": {
            "text/plain": [
              "<tensorflow_estimator.python.estimator.canned.dnn.DNNClassifierV2 at 0x7f27d761df10>"
            ]
          },
          "metadata": {},
          "execution_count": 46
        }
      ]
    },
    {
      "cell_type": "code",
      "metadata": {
        "colab": {
          "base_uri": "https://localhost:8080/"
        },
        "id": "Nei6yHE5xKWJ",
        "outputId": "5cc15601-ab63-45cc-d043-3dfca48cf253"
      },
      "source": [
        "pred_fn = tf.compat.v1.estimator.inputs.pandas_input_fn(x=X_test,batch_size=len(X_test),shuffle=False) \n",
        "# Prediction is done here now.\n",
        "predictions = list(classifier.predict(input_fn=pred_fn))\n",
        "predictions[0]"
      ],
      "execution_count": null,
      "outputs": [
        {
          "output_type": "stream",
          "name": "stdout",
          "text": [
            "INFO:tensorflow:Calling model_fn.\n",
            "INFO:tensorflow:Done calling model_fn.\n",
            "INFO:tensorflow:Graph was finalized.\n",
            "INFO:tensorflow:Restoring parameters from /tmp/tmp0j_g28z1/model.ckpt-10000\n",
            "INFO:tensorflow:Running local_init_op.\n",
            "INFO:tensorflow:Done running local_init_op.\n"
          ]
        },
        {
          "output_type": "execute_result",
          "data": {
            "text/plain": [
              "{'all_class_ids': array([0, 1], dtype=int32),\n",
              " 'all_classes': array([b'0', b'1'], dtype=object),\n",
              " 'class_ids': array([0]),\n",
              " 'classes': array([b'0'], dtype=object),\n",
              " 'logistic': array([0.], dtype=float32),\n",
              " 'logits': array([-4.7391375e+09], dtype=float32),\n",
              " 'probabilities': array([1., 0.], dtype=float32)}"
            ]
          },
          "metadata": {},
          "execution_count": 47
        }
      ]
    },
    {
      "cell_type": "code",
      "metadata": {
        "id": "kOBNaHw2xYSV"
      },
      "source": [
        "final_preds = []\n",
        "for pred in predictions:\n",
        "    #info = \"{} {} {}\".format(pred['class_ids'][0], pred['probabilities'][0] , pred['probabilities'][1])\n",
        "    final_preds.append(pred['class_ids'][0])\n",
        "    #final_preds.append(info)"
      ],
      "execution_count": null,
      "outputs": []
    },
    {
      "cell_type": "code",
      "metadata": {
        "colab": {
          "base_uri": "https://localhost:8080/"
        },
        "id": "b0r_VPdVxfux",
        "outputId": "bbb1154c-4057-484e-bdf4-c96591d71862"
      },
      "source": [
        "print(classification_report(y_test,final_preds))"
      ],
      "execution_count": null,
      "outputs": [
        {
          "output_type": "stream",
          "name": "stdout",
          "text": [
            "              precision    recall  f1-score   support\n",
            "\n",
            "           0       1.00      1.00      1.00      5158\n",
            "           1       0.00      0.00      0.00         8\n",
            "\n",
            "    accuracy                           1.00      5166\n",
            "   macro avg       0.50      0.50      0.50      5166\n",
            "weighted avg       1.00      1.00      1.00      5166\n",
            "\n"
          ]
        },
        {
          "output_type": "stream",
          "name": "stderr",
          "text": [
            "/usr/local/lib/python3.7/dist-packages/sklearn/metrics/_classification.py:1272: UndefinedMetricWarning: Precision and F-score are ill-defined and being set to 0.0 in labels with no predicted samples. Use `zero_division` parameter to control this behavior.\n",
            "  _warn_prf(average, modifier, msg_start, len(result))\n"
          ]
        }
      ]
    },
    {
      "cell_type": "code",
      "metadata": {
        "id": "Cj4S8vGkxhJp"
      },
      "source": [
        ""
      ],
      "execution_count": null,
      "outputs": []
    },
    {
      "cell_type": "markdown",
      "metadata": {
        "id": "qw6qcEgYoGJ4"
      },
      "source": [
        "#### Logistic Regression <a id=\"4\"></a>"
      ]
    },
    {
      "cell_type": "code",
      "metadata": {
        "colab": {
          "base_uri": "https://localhost:8080/"
        },
        "id": "A2_1NzLJuy4k",
        "outputId": "6b92d8cf-d54c-4f6b-f0be-8e5299590e33"
      },
      "source": [
        "# Instantiate the model using the default parameters\n",
        "lr = LogisticRegression()\n",
        "\n",
        "#fit the model with the data\n",
        "lr.fit(X_train, y_train)"
      ],
      "execution_count": null,
      "outputs": [
        {
          "output_type": "stream",
          "name": "stderr",
          "text": [
            "/usr/local/lib/python3.7/dist-packages/sklearn/linear_model/_logistic.py:940: ConvergenceWarning: lbfgs failed to converge (status=2):\n",
            "ABNORMAL_TERMINATION_IN_LNSRCH.\n",
            "\n",
            "Increase the number of iterations (max_iter) or scale the data as shown in:\n",
            "    https://scikit-learn.org/stable/modules/preprocessing.html\n",
            "Please also refer to the documentation for alternative solver options:\n",
            "    https://scikit-learn.org/stable/modules/linear_model.html#logistic-regression\n",
            "  extra_warning_msg=_LOGISTIC_SOLVER_CONVERGENCE_MSG)\n"
          ]
        },
        {
          "output_type": "execute_result",
          "data": {
            "text/plain": [
              "LogisticRegression(C=1.0, class_weight=None, dual=False, fit_intercept=True,\n",
              "                   intercept_scaling=1, l1_ratio=None, max_iter=100,\n",
              "                   multi_class='auto', n_jobs=None, penalty='l2',\n",
              "                   random_state=None, solver='lbfgs', tol=0.0001, verbose=0,\n",
              "                   warm_start=False)"
            ]
          },
          "metadata": {},
          "execution_count": 50
        }
      ]
    },
    {
      "cell_type": "code",
      "metadata": {
        "id": "0WmD3yy1u2tl"
      },
      "source": [
        "y_pred = lr.predict(X_test)"
      ],
      "execution_count": null,
      "outputs": []
    },
    {
      "cell_type": "code",
      "metadata": {
        "colab": {
          "base_uri": "https://localhost:8080/"
        },
        "id": "uF-coY2Fu5a-",
        "outputId": "502f2e44-bc14-44b5-b0b3-f0ff3bf3d54d"
      },
      "source": [
        "y_pred"
      ],
      "execution_count": null,
      "outputs": [
        {
          "output_type": "execute_result",
          "data": {
            "text/plain": [
              "array([0, 0, 0, ..., 0, 0, 0])"
            ]
          },
          "metadata": {},
          "execution_count": 52
        }
      ]
    },
    {
      "cell_type": "code",
      "metadata": {
        "colab": {
          "base_uri": "https://localhost:8080/"
        },
        "id": "jK0hsmQJu89y",
        "outputId": "f19b3d47-2e07-428d-918c-0ab9d7b7de45"
      },
      "source": [
        "cnf_matrix = metrics.confusion_matrix(y_test, y_pred)\n",
        "cnf_matrix"
      ],
      "execution_count": null,
      "outputs": [
        {
          "output_type": "execute_result",
          "data": {
            "text/plain": [
              "array([[5158,    0],\n",
              "       [   8,    0]])"
            ]
          },
          "metadata": {},
          "execution_count": 53
        }
      ]
    },
    {
      "cell_type": "code",
      "metadata": {
        "colab": {
          "base_uri": "https://localhost:8080/"
        },
        "id": "rehtZ8s7u_Un",
        "outputId": "7c75a8cc-84ae-4643-ad52-6aa181a0e85b"
      },
      "source": [
        "cnf_matrix = pd.crosstab(y_test, y_pred,rownames=['Actual'], colnames=['Predicted'])\n",
        "sn.heatmap(cnf_matrix, annot=True)"
      ],
      "execution_count": null,
      "outputs": [
        {
          "output_type": "execute_result",
          "data": {
            "text/plain": [
              "<matplotlib.axes._subplots.AxesSubplot at 0x7f27d5278150>"
            ]
          },
          "metadata": {},
          "execution_count": 54
        },
        {
          "output_type": "display_data",
          "data": {
            "image/png": "[encoded data removed]",
            "text/plain": [
              "<Figure size 432x288 with 2 Axes>"
            ]
          },
          "metadata": {}
        }
      ]
    },
    {
      "cell_type": "code",
      "metadata": {
        "colab": {
          "base_uri": "https://localhost:8080/"
        },
        "id": "FmmTd1ZBvDbi",
        "outputId": "13216206-2851-415a-a45a-91b0aab61416"
      },
      "source": [
        "accuracyScore = metrics.accuracy_score(y_test,y_pred)\n",
        "print('Accuracy score : ', accuracyScore)\n",
        "print(\"Accuracy in Percentage : \", int(accuracyScore*100),'%')"
      ],
      "execution_count": null,
      "outputs": [
        {
          "output_type": "stream",
          "name": "stdout",
          "text": [
            "Accuracy score :  0.9984514130855594\n",
            "Accuracy in Percentage :  99 %\n"
          ]
        }
      ]
    },
    {
      "cell_type": "code",
      "metadata": {
        "id": "oen4FyYNx07_"
      },
      "source": [
        ""
      ],
      "execution_count": null,
      "outputs": []
    },
    {
      "cell_type": "markdown",
      "metadata": {
        "id": "AnIvHpTn1UYa"
      },
      "source": [
        "#### Model Evaluation <a id=\"14\"></a>\n",
        "\n",
        "<hr>   \n",
        "\n",
        "* Now we have selected our model with better hyper parameters than default ones.\n",
        "* It is time to evaluate model with our test set"
      ]
    },
    {
      "cell_type": "code",
      "metadata": {
        "colab": {
          "base_uri": "https://localhost:8080/"
        },
        "id": "c7bbOwfn1UYb",
        "outputId": "145ce3e2-2f43-456b-d0cc-de1e94084f7a"
      },
      "source": [
        "logreg_best = LogisticRegression(C=74, penalty=\"l1\", solver=\"liblinear\")\n",
        "logreg_best.fit(X_train, y_train)\n",
        "print(\"Test accuracy: \",logreg_best.score(X_test, y_test))"
      ],
      "execution_count": null,
      "outputs": [
        {
          "output_type": "stream",
          "name": "stdout",
          "text": [
            "Test accuracy:  0.9994192799070848\n"
          ]
        },
        {
          "output_type": "stream",
          "name": "stderr",
          "text": [
            "/usr/local/lib/python3.7/dist-packages/sklearn/svm/_base.py:947: ConvergenceWarning: Liblinear failed to converge, increase the number of iterations.\n",
            "  \"the number of iterations.\", ConvergenceWarning)\n"
          ]
        }
      ]
    },
    {
      "cell_type": "code",
      "metadata": {
        "colab": {
          "base_uri": "https://localhost:8080/"
        },
        "id": "ODmWma_N5SRj",
        "outputId": "d01f8fb6-3159-4a0e-90e4-459706412b9c"
      },
      "source": [
        "knn = KNeighborsClassifier(n_neighbors = 2)\n",
        "knn.fit(X_train, y_train)\n",
        "y_pred = knn.predict(X_test)\n",
        "cm = confusion_matrix(y_test, y_pred)\n",
        "acc = accuracy_score(y_test, y_pred)\n",
        "score = knn.score(X_test, y_test)\n",
        "\n",
        "print(\"Basic KNN Accuracy: % {}\".format(acc))\n",
        "print(\"Score : \", score)\n",
        "print(\"CM : \", cm)"
      ],
      "execution_count": null,
      "outputs": [
        {
          "output_type": "stream",
          "name": "stdout",
          "text": [
            "Basic KNN Accuracy: % 0.9986449864498645\n",
            "Score :  0.9986449864498645\n",
            "CM :  [[5158    0]\n",
            " [   7    1]]\n"
          ]
        }
      ]
    },
    {
      "cell_type": "code",
      "metadata": {
        "id": "hZTmGLlN71De"
      },
      "source": [
        "def KNN_Best_Params(X_train, X_test, y_train, y_test):\n",
        "    \n",
        "    k_range = list(range(1,31))\n",
        "    weight_options = [\"uniform\",\"distance\"]\n",
        "    print()\n",
        "    param_grid = dict(n_neighbors = k_range, weights = weight_options)\n",
        "     \n",
        "    knn = KNeighborsClassifier()\n",
        "    \n",
        "    grid = GridSearchCV(knn, param_grid, cv = 10, scoring = \"accuracy\")\n",
        "    grid.fit(X_train, y_train)\n",
        "    \n",
        "    print(\"Best training score : {} with paremeters : {}\".format(grid.best_score_, grid.best_params_))\n",
        "    print()\n",
        "    \n",
        "    knn = KNeighborsClassifier(**grid.best_params_) # best paremetre olarak gelen değerlerimiz.\n",
        "    knn.fit(X_train, y_train)\n",
        "    \n",
        "    y_pred_test = knn.predict(X_test)\n",
        "    y_pred_train = knn.predict(X_train)\n",
        "    \n",
        "    cm_test = confusion_matrix(y_test, y_pred_test)\n",
        "    cm_train = confusion_matrix(y_train, y_pred_train)\n",
        "    \n",
        "    acc_test = accuracy_score(y_test, y_pred_test) \n",
        "    acc_train = accuracy_score(y_train, y_pred_train)\n",
        "    print(\"Test Score: {}, Train Score: {}\".format(acc_test, acc_train))\n",
        "    print()\n",
        "    print(\"CM Test: \",cm_test)\n",
        "    print(\"CM Train: \",cm_train)\n",
        "    \n",
        "    return grid"
      ],
      "execution_count": null,
      "outputs": []
    },
    {
      "cell_type": "code",
      "metadata": {
        "colab": {
          "base_uri": "https://localhost:8080/"
        },
        "id": "VQw9AmeL8OTx",
        "outputId": "af71ea4f-760b-4d33-8eb4-b950a9d2f579"
      },
      "source": [
        "grid = KNN_Best_Params(X_train, X_test, y_train, y_test) "
      ],
      "execution_count": null,
      "outputs": [
        {
          "output_type": "stream",
          "name": "stdout",
          "text": [
            "\n",
            "Best training score : 0.998790213238879 with paremeters : {'n_neighbors': 10, 'weights': 'distance'}\n",
            "\n",
            "Test Score: 0.9984514130855594, Train Score: 1.0\n",
            "\n",
            "CM Test:  [[5158    0]\n",
            " [   8    0]]\n",
            "CM Train:  [[20629     0]\n",
            " [    0    35]]\n"
          ]
        }
      ]
    },
    {
      "cell_type": "markdown",
      "metadata": {
        "id": "hpj4Z_Q51UYb"
      },
      "source": [
        "The ultimate success of our model in predicting the test set that has not been used in training is 0.99"
      ]
    },
    {
      "cell_type": "markdown",
      "metadata": {
        "id": "zUdTAo2g1UYc"
      },
      "source": [
        "#### F1 Score <a id=\"17\"></a>\n",
        "<hr>"
      ]
    },
    {
      "cell_type": "code",
      "metadata": {
        "colab": {
          "base_uri": "https://localhost:8080/"
        },
        "id": "HssBeMz31UYc",
        "outputId": "8b19c9fe-6490-427b-898a-7873c27cee58"
      },
      "source": [
        "TN = cm[0,0]\n",
        "TP = cm[1,1]\n",
        "FN = cm[1,0]\n",
        "FP = cm[0,1]\n",
        "Precision = TP/(TP+FP)\n",
        "Recall = TP/(TP+FN)\n",
        "F1_Score = 2*(Recall * Precision) / (Recall + Precision)\n",
        "pd.DataFrame([[Precision, Recall, F1_Score]],columns=[\"Precision\", \"Recall\", \"F1 Score\"], index=[\"Results\"])"
      ],
      "execution_count": null,
      "outputs": [
        {
          "output_type": "execute_result",
          "data": {
            "text/html": [
              "<div>\n",
              "<style scoped>\n",
              "    .dataframe tbody tr th:only-of-type {\n",
              "        vertical-align: middle;\n",
              "    }\n",
              "\n",
              "    .dataframe tbody tr th {\n",
              "        vertical-align: top;\n",
              "    }\n",
              "\n",
              "    .dataframe thead th {\n",
              "        text-align: right;\n",
              "    }\n",
              "</style>\n",
              "<table border=\"1\" class=\"dataframe\">\n",
              "  <thead>\n",
              "    <tr style=\"text-align: right;\">\n",
              "      <th></th>\n",
              "      <th>Precision</th>\n",
              "      <th>Recall</th>\n",
              "      <th>F1 Score</th>\n",
              "    </tr>\n",
              "  </thead>\n",
              "  <tbody>\n",
              "    <tr>\n",
              "      <th>Results</th>\n",
              "      <td>1.0</td>\n",
              "      <td>0.125</td>\n",
              "      <td>0.222222</td>\n",
              "    </tr>\n",
              "  </tbody>\n",
              "</table>\n",
              "</div>"
            ],
            "text/plain": [
              "         Precision  Recall  F1 Score\n",
              "Results        1.0   0.125  0.222222"
            ]
          },
          "metadata": {},
          "execution_count": 60
        }
      ]
    },
    {
      "cell_type": "markdown",
      "metadata": {
        "id": "Oy205yx61UYc"
      },
      "source": [
        "1. High precision relates to the low false positive rate\n",
        "1. High recall relates to the low false negative rate"
      ]
    },
    {
      "cell_type": "code",
      "metadata": {
        "id": "ASrFZ7H6yuun"
      },
      "source": [
        ""
      ],
      "execution_count": null,
      "outputs": []
    },
    {
      "cell_type": "markdown",
      "metadata": {
        "id": "eEjTwx372tte"
      },
      "source": [
        "### **Create, compile, and train the model** <a id=\"4\"></a>"
      ]
    },
    {
      "cell_type": "code",
      "metadata": {
        "colab": {
          "base_uri": "https://localhost:8080/",
          "height": 419
        },
        "id": "ukLclFct2ttj",
        "outputId": "9c1844fe-ca0c-4e4b-e12f-3cf82f0771a1"
      },
      "source": [
        "df_model"
      ],
      "execution_count": null,
      "outputs": [
        {
          "output_type": "execute_result",
          "data": {
            "text/html": [
              "<div>\n",
              "<style scoped>\n",
              "    .dataframe tbody tr th:only-of-type {\n",
              "        vertical-align: middle;\n",
              "    }\n",
              "\n",
              "    .dataframe tbody tr th {\n",
              "        vertical-align: top;\n",
              "    }\n",
              "\n",
              "    .dataframe thead th {\n",
              "        text-align: right;\n",
              "    }\n",
              "</style>\n",
              "<table border=\"1\" class=\"dataframe\">\n",
              "  <thead>\n",
              "    <tr style=\"text-align: right;\">\n",
              "      <th></th>\n",
              "      <th>Ts</th>\n",
              "      <th>humidity</th>\n",
              "      <th>lightStats</th>\n",
              "      <th>pumpStatus</th>\n",
              "      <th>soilHum</th>\n",
              "      <th>soilTemp</th>\n",
              "      <th>temperature</th>\n",
              "    </tr>\n",
              "  </thead>\n",
              "  <tbody>\n",
              "    <tr>\n",
              "      <th>0</th>\n",
              "      <td>1635147131999</td>\n",
              "      <td>71.6</td>\n",
              "      <td>215</td>\n",
              "      <td>0</td>\n",
              "      <td>97</td>\n",
              "      <td>27.8125</td>\n",
              "      <td>29.5</td>\n",
              "    </tr>\n",
              "    <tr>\n",
              "      <th>1</th>\n",
              "      <td>1635147191641</td>\n",
              "      <td>72.8</td>\n",
              "      <td>217</td>\n",
              "      <td>0</td>\n",
              "      <td>96</td>\n",
              "      <td>27.8125</td>\n",
              "      <td>29.5</td>\n",
              "    </tr>\n",
              "    <tr>\n",
              "      <th>2</th>\n",
              "      <td>1635147221444</td>\n",
              "      <td>73.2</td>\n",
              "      <td>208</td>\n",
              "      <td>0</td>\n",
              "      <td>96</td>\n",
              "      <td>27.8125</td>\n",
              "      <td>29.5</td>\n",
              "    </tr>\n",
              "    <tr>\n",
              "      <th>3</th>\n",
              "      <td>1635147251257</td>\n",
              "      <td>72.8</td>\n",
              "      <td>210</td>\n",
              "      <td>0</td>\n",
              "      <td>96</td>\n",
              "      <td>27.8125</td>\n",
              "      <td>29.5</td>\n",
              "    </tr>\n",
              "    <tr>\n",
              "      <th>4</th>\n",
              "      <td>1635148033290</td>\n",
              "      <td>74.8</td>\n",
              "      <td>275</td>\n",
              "      <td>0</td>\n",
              "      <td>93</td>\n",
              "      <td>27.8750</td>\n",
              "      <td>29.3</td>\n",
              "    </tr>\n",
              "    <tr>\n",
              "      <th>...</th>\n",
              "      <td>...</td>\n",
              "      <td>...</td>\n",
              "      <td>...</td>\n",
              "      <td>...</td>\n",
              "      <td>...</td>\n",
              "      <td>...</td>\n",
              "      <td>...</td>\n",
              "    </tr>\n",
              "    <tr>\n",
              "      <th>25825</th>\n",
              "      <td>1635835481925</td>\n",
              "      <td>93.1</td>\n",
              "      <td>608</td>\n",
              "      <td>0</td>\n",
              "      <td>83</td>\n",
              "      <td>27.6250</td>\n",
              "      <td>26.8</td>\n",
              "    </tr>\n",
              "    <tr>\n",
              "      <th>25826</th>\n",
              "      <td>1635835511753</td>\n",
              "      <td>93.2</td>\n",
              "      <td>623</td>\n",
              "      <td>0</td>\n",
              "      <td>83</td>\n",
              "      <td>27.5625</td>\n",
              "      <td>26.9</td>\n",
              "    </tr>\n",
              "    <tr>\n",
              "      <th>25827</th>\n",
              "      <td>1635835542535</td>\n",
              "      <td>93.1</td>\n",
              "      <td>628</td>\n",
              "      <td>0</td>\n",
              "      <td>83</td>\n",
              "      <td>27.5625</td>\n",
              "      <td>26.9</td>\n",
              "    </tr>\n",
              "    <tr>\n",
              "      <th>25828</th>\n",
              "      <td>1635835571752</td>\n",
              "      <td>92.6</td>\n",
              "      <td>643</td>\n",
              "      <td>0</td>\n",
              "      <td>82</td>\n",
              "      <td>27.5625</td>\n",
              "      <td>26.8</td>\n",
              "    </tr>\n",
              "    <tr>\n",
              "      <th>25829</th>\n",
              "      <td>1635835601566</td>\n",
              "      <td>92.6</td>\n",
              "      <td>640</td>\n",
              "      <td>0</td>\n",
              "      <td>83</td>\n",
              "      <td>27.5625</td>\n",
              "      <td>26.8</td>\n",
              "    </tr>\n",
              "  </tbody>\n",
              "</table>\n",
              "<p>25830 rows × 7 columns</p>\n",
              "</div>"
            ],
            "text/plain": [
              "                  Ts  humidity  lightStats  ...  soilHum  soilTemp  temperature\n",
              "0      1635147131999      71.6         215  ...       97   27.8125         29.5\n",
              "1      1635147191641      72.8         217  ...       96   27.8125         29.5\n",
              "2      1635147221444      73.2         208  ...       96   27.8125         29.5\n",
              "3      1635147251257      72.8         210  ...       96   27.8125         29.5\n",
              "4      1635148033290      74.8         275  ...       93   27.8750         29.3\n",
              "...              ...       ...         ...  ...      ...       ...          ...\n",
              "25825  1635835481925      93.1         608  ...       83   27.6250         26.8\n",
              "25826  1635835511753      93.2         623  ...       83   27.5625         26.9\n",
              "25827  1635835542535      93.1         628  ...       83   27.5625         26.9\n",
              "25828  1635835571752      92.6         643  ...       82   27.5625         26.8\n",
              "25829  1635835601566      92.6         640  ...       83   27.5625         26.8\n",
              "\n",
              "[25830 rows x 7 columns]"
            ]
          },
          "metadata": {},
          "execution_count": 10
        }
      ]
    },
    {
      "cell_type": "code",
      "metadata": {
        "colab": {
          "base_uri": "https://localhost:8080/"
        },
        "id": "moYyDyaA3o-K",
        "outputId": "563d60ae-19ce-4352-8dce-e6c84ac61d09"
      },
      "source": [
        "from sklearn.model_selection import train_test_split\n",
        "from sklearn.preprocessing import LabelEncoder\n",
        "x = df_model.drop('pumpStatus',axis=1)\n",
        "y = df_model['pumpStatus']\n",
        "le = LabelEncoder()\n",
        "y = le.fit_transform(y)\n",
        "\n",
        "x_train,x_test,y_train,y_test = train_test_split(x,y,test_size=0.2, shuffle = True, stratify=y)\n",
        "x_train,x_val,y_train,y_val = train_test_split(x_train,y_train,test_size=0.02, shuffle = True,)\n",
        "print(len(x_train), 'train examples')\n",
        "print(len(x_test), 'test examples')\n",
        "print(len(x_val), 'val examples')\n",
        "print(len(y_train), 'train examples')\n",
        "print(len(y_test), 'test examples')\n",
        "print(len(y_val), 'train examples')"
      ],
      "execution_count": null,
      "outputs": [
        {
          "output_type": "stream",
          "name": "stdout",
          "text": [
            "20250 train examples\n",
            "5166 test examples\n",
            "414 val examples\n",
            "20250 train examples\n",
            "5166 test examples\n",
            "414 train examples\n"
          ]
        }
      ]
    },
    {
      "cell_type": "code",
      "metadata": {
        "colab": {
          "base_uri": "https://localhost:8080/"
        },
        "id": "It2PkdL03v0k",
        "outputId": "93d9b7af-f001-47a2-c672-110c7afe9c47"
      },
      "source": [
        "x_train.shape,x_test.shape,x_val.shape,y_train.shape,y_test.shape,y_val.shape"
      ],
      "execution_count": null,
      "outputs": [
        {
          "output_type": "execute_result",
          "data": {
            "text/plain": [
              "((20250, 6), (5166, 6), (414, 6), (20250,), (5166,), (414,))"
            ]
          },
          "metadata": {},
          "execution_count": 13
        }
      ]
    },
    {
      "cell_type": "code",
      "metadata": {
        "id": "pQ9AsfUv3yQx"
      },
      "source": [
        "from sklearn.preprocessing import StandardScaler\n",
        "scaler = StandardScaler()\n",
        "x_train = scaler.fit_transform(x_train)\n",
        "x_test = scaler.transform(x_test)\n",
        "x_val = scaler.transform(x_val)"
      ],
      "execution_count": null,
      "outputs": []
    },
    {
      "cell_type": "code",
      "metadata": {
        "id": "0LvOVc3I3zgN"
      },
      "source": [
        "x_train = x_train.reshape(20250,6,1)\n",
        "x_test = x_test.reshape(5166,6,1)\n",
        "x_val = x_val.reshape(414,6,1)"
      ],
      "execution_count": null,
      "outputs": []
    },
    {
      "cell_type": "code",
      "metadata": {
        "colab": {
          "base_uri": "https://localhost:8080/"
        },
        "id": "OAccXPcY31m2",
        "outputId": "4dc7198c-e656-4c73-d387-2d75ccf605f1"
      },
      "source": [
        "model = tf.keras.Sequential([\n",
        "                             tf.keras.layers.Conv1D(filters=64,kernel_size=1,activation='ReLU',input_shape=(6,1)),\n",
        "                             tf.keras.layers.BatchNormalization(),\n",
        "                             tf.keras.layers.Dropout(0.1),\n",
        "                             tf.keras.layers.Conv1D(filters=64, kernel_size=1, activation = 'ReLU'),\n",
        "                             tf.keras.layers.BatchNormalization(),\n",
        "                             tf.keras.layers.Flatten(),\n",
        "                             tf.keras.layers.Dense(128, activation = 'ReLU'),\n",
        "                             tf.keras.layers.Dropout(0.2),\n",
        "                             tf.keras.layers.Dense(128, activation = 'ReLU'),\n",
        "                             tf.keras.layers.Dense(1, activation = 'sigmoid')])\n",
        "model.summary()"
      ],
      "execution_count": null,
      "outputs": [
        {
          "output_type": "stream",
          "name": "stdout",
          "text": [
            "Model: \"sequential_1\"\n",
            "_________________________________________________________________\n",
            "Layer (type)                 Output Shape              Param #   \n",
            "=================================================================\n",
            "conv1d_2 (Conv1D)            (None, 6, 64)             128       \n",
            "_________________________________________________________________\n",
            "batch_normalization_2 (Batch (None, 6, 64)             256       \n",
            "_________________________________________________________________\n",
            "dropout_2 (Dropout)          (None, 6, 64)             0         \n",
            "_________________________________________________________________\n",
            "conv1d_3 (Conv1D)            (None, 6, 64)             4160      \n",
            "_________________________________________________________________\n",
            "batch_normalization_3 (Batch (None, 6, 64)             256       \n",
            "_________________________________________________________________\n",
            "flatten_1 (Flatten)          (None, 384)               0         \n",
            "_________________________________________________________________\n",
            "dense_3 (Dense)              (None, 128)               49280     \n",
            "_________________________________________________________________\n",
            "dropout_3 (Dropout)          (None, 128)               0         \n",
            "_________________________________________________________________\n",
            "dense_4 (Dense)              (None, 128)               16512     \n",
            "_________________________________________________________________\n",
            "dense_5 (Dense)              (None, 1)                 129       \n",
            "=================================================================\n",
            "Total params: 70,721\n",
            "Trainable params: 70,465\n",
            "Non-trainable params: 256\n",
            "_________________________________________________________________\n"
          ]
        }
      ]
    },
    {
      "cell_type": "code",
      "metadata": {
        "id": "6TLqVaGE336x"
      },
      "source": [
        "model.compile(optimizer=Adam(learning_rate=0.00005),\n",
        "              loss='binary_crossentropy',\n",
        "              metrics=['accuracy'])"
      ],
      "execution_count": null,
      "outputs": []
    },
    {
      "cell_type": "code",
      "metadata": {
        "colab": {
          "base_uri": "https://localhost:8080/"
        },
        "id": "aClJ_Z5136o3",
        "outputId": "30ca0902-aac5-442b-e115-21ba245d4f5f"
      },
      "source": [
        "import datetime, os\n",
        "%load_ext tensorboard\n",
        "logdir = os.path.join(\"logs\", datetime.datetime.now().strftime(\"%Y%m%d-%H%M%S\"))\n",
        "tensorboard_callback = tf.keras.callbacks.TensorBoard(logdir, histogram_freq=1)\n",
        "\n",
        "history = model.fit(x_train,y_train,\n",
        "                    validation_data=(x_test,y_test),\n",
        "                    verbose=1,\n",
        "                    epochs=2, callbacks=[tensorboard_callback])"
      ],
      "execution_count": null,
      "outputs": [
        {
          "output_type": "stream",
          "name": "stdout",
          "text": [
            "The tensorboard extension is already loaded. To reload it, use:\n",
            "  %reload_ext tensorboard\n",
            "Epoch 1/2\n",
            "633/633 [==============================] - 5s 6ms/step - loss: 0.0262 - accuracy: 0.9983 - val_loss: 0.0170 - val_accuracy: 0.9983\n",
            "Epoch 2/2\n",
            "633/633 [==============================] - 4s 6ms/step - loss: 0.0105 - accuracy: 0.9983 - val_loss: 0.0089 - val_accuracy: 0.9983\n"
          ]
        }
      ]
    },
    {
      "cell_type": "code",
      "metadata": {
        "colab": {
          "base_uri": "https://localhost:8080/",
          "height": 573
        },
        "id": "gU3iDxAK4Nah",
        "outputId": "d8fd0bb9-6451-41f5-f87f-2173ebb7c71f"
      },
      "source": [
        "plt.plot(history.history['accuracy'])\n",
        "plt.plot(history.history['val_accuracy'])\n",
        "plt.title('Model accuracy')\n",
        "plt.ylabel('Accuracy')\n",
        "plt.xlabel('Epoch')\n",
        "plt.legend(['Train', 'Validation'], loc='upper left')\n",
        "plt.show()\n",
        "\n",
        "plt.plot(history.history['loss'])\n",
        "plt.plot(history.history['val_loss'])\n",
        "plt.title('Model loss')\n",
        "plt.ylabel('Loss')\n",
        "plt.xlabel('Epoch')\n",
        "plt.legend(['Train', 'Validation'], loc='upper left')\n",
        "plt.show()"
      ],
      "execution_count": null,
      "outputs": [
        {
          "output_type": "display_data",
          "data": {
            "image/png": "[encoded data removed]",
            "text/plain": [
              "<Figure size 432x288 with 1 Axes>"
            ]
          },
          "metadata": {
            "needs_background": "light"
          }
        },
        {
          "output_type": "display_data",
          "data": {
            "image/png": "[encoded data removed]",
            "text/plain": [
              "<Figure size 432x288 with 1 Axes>"
            ]
          },
          "metadata": {
            "needs_background": "light"
          }
        }
      ]
    },
    {
      "cell_type": "code",
      "metadata": {
        "colab": {
          "base_uri": "https://localhost:8080/"
        },
        "id": "0toAe21s383O",
        "outputId": "c9406ac9-6b7f-4983-dd93-c42484663085"
      },
      "source": [
        "y_val"
      ],
      "execution_count": null,
      "outputs": [
        {
          "output_type": "execute_result",
          "data": {
            "text/plain": [
              "array([0, 0, 0, 0, 0, 0, 0, 0, 0, 0, 0, 0, 0, 0, 0, 0, 0, 0, 0, 0, 0, 0,\n",
              "       0, 0, 0, 0, 0, 0, 0, 0, 0, 0, 0, 0, 0, 0, 0, 0, 0, 0, 0, 0, 0, 0,\n",
              "       0, 0, 0, 0, 0, 0, 0, 0, 0, 0, 0, 0, 0, 0, 0, 0, 0, 0, 0, 0, 0, 0,\n",
              "       0, 0, 0, 0, 0, 0, 0, 0, 0, 0, 0, 0, 0, 0, 0, 0, 0, 0, 0, 0, 0, 0,\n",
              "       0, 0, 0, 0, 0, 0, 0, 0, 0, 0, 0, 0, 0, 0, 0, 0, 0, 0, 0, 0, 0, 0,\n",
              "       0, 0, 0, 0, 0, 0, 0, 0, 0, 0, 0, 0, 0, 0, 0, 0, 0, 0, 0, 0, 0, 0,\n",
              "       0, 0, 0, 0, 0, 0, 0, 0, 0, 0, 0, 0, 0, 0, 0, 0, 0, 0, 0, 0, 0, 0,\n",
              "       0, 0, 0, 0, 0, 0, 0, 0, 0, 0, 0, 0, 0, 0, 0, 0, 0, 0, 0, 0, 0, 0,\n",
              "       0, 0, 0, 0, 0, 0, 0, 0, 0, 0, 0, 0, 0, 0, 0, 0, 0, 0, 0, 0, 0, 0,\n",
              "       0, 0, 0, 0, 0, 0, 0, 0, 0, 0, 0, 0, 0, 0, 0, 0, 0, 0, 0, 0, 0, 0,\n",
              "       0, 0, 0, 0, 0, 0, 0, 0, 0, 0, 0, 0, 0, 0, 0, 0, 0, 0, 0, 0, 0, 0,\n",
              "       0, 0, 0, 0, 0, 0, 0, 0, 0, 0, 0, 0, 0, 0, 0, 0, 0, 0, 0, 0, 0, 0,\n",
              "       0, 0, 0, 0, 0, 0, 0, 0, 0, 0, 0, 0, 0, 0, 0, 0, 0, 0, 0, 0, 0, 0,\n",
              "       0, 0, 0, 0, 0, 0, 0, 0, 0, 0, 0, 0, 0, 0, 0, 0, 0, 0, 0, 0, 0, 0,\n",
              "       0, 0, 0, 0, 0, 0, 0, 0, 0, 0, 0, 0, 0, 0, 0, 0, 0, 0, 0, 0, 0, 0,\n",
              "       0, 0, 0, 0, 0, 0, 0, 0, 0, 0, 0, 0, 0, 0, 0, 0, 0, 0, 0, 0, 0, 0,\n",
              "       0, 0, 0, 0, 0, 0, 0, 0, 0, 0, 0, 0, 0, 0, 0, 0, 0, 0, 0, 0, 0, 0,\n",
              "       0, 0, 0, 0, 0, 0, 0, 0, 0, 0, 0, 0, 0, 0, 0, 0, 0, 0, 0, 0, 0, 0,\n",
              "       0, 0, 0, 0, 0, 0, 0, 0, 0, 0, 0, 0, 0, 0, 0, 0, 0, 0])"
            ]
          },
          "metadata": {},
          "execution_count": 77
        }
      ]
    },
    {
      "cell_type": "code",
      "metadata": {
        "colab": {
          "base_uri": "https://localhost:8080/"
        },
        "id": "QaVT_dDv4BQb",
        "outputId": "9565e3ca-9353-4fdf-c5ab-e4dc5a3e4d51"
      },
      "source": [
        "model.predict(x_val)"
      ],
      "execution_count": null,
      "outputs": [
        {
          "output_type": "execute_result",
          "data": {
            "text/plain": [
              "array([[2.36949325e-03],\n",
              "       [5.34436076e-05],\n",
              "       [9.58234072e-04],\n",
              "       [4.05470491e-05],\n",
              "       [1.94719434e-03],\n",
              "       [2.38546729e-03],\n",
              "       [1.27166510e-03],\n",
              "       [3.62604856e-03],\n",
              "       [2.65866518e-04],\n",
              "       [1.79427862e-03],\n",
              "       [1.41736865e-03],\n",
              "       [1.21194124e-03],\n",
              "       [4.73380089e-04],\n",
              "       [1.34706497e-04],\n",
              "       [2.72629986e-05],\n",
              "       [7.29084015e-04],\n",
              "       [3.80522013e-03],\n",
              "       [1.22463703e-03],\n",
              "       [1.55955553e-04],\n",
              "       [2.02009082e-03],\n",
              "       [6.56366348e-04],\n",
              "       [2.31832266e-04],\n",
              "       [2.83148885e-03],\n",
              "       [1.38169527e-03],\n",
              "       [2.02417374e-04],\n",
              "       [1.50352716e-04],\n",
              "       [6.08086586e-04],\n",
              "       [5.13234735e-03],\n",
              "       [1.15215778e-03],\n",
              "       [2.52524018e-03],\n",
              "       [1.64885759e-01],\n",
              "       [4.05728817e-04],\n",
              "       [2.35766172e-04],\n",
              "       [3.76974940e-02],\n",
              "       [2.03195214e-03],\n",
              "       [3.73831391e-03],\n",
              "       [6.20126724e-04],\n",
              "       [6.09397888e-04],\n",
              "       [2.41219997e-04],\n",
              "       [2.15858221e-04],\n",
              "       [2.08240747e-03],\n",
              "       [1.02125494e-04],\n",
              "       [5.63859940e-04],\n",
              "       [9.56235308e-05],\n",
              "       [4.34532762e-03],\n",
              "       [2.92885303e-03],\n",
              "       [5.34929677e-05],\n",
              "       [2.13629007e-03],\n",
              "       [2.10943818e-03],\n",
              "       [2.74837017e-04],\n",
              "       [6.17921352e-04],\n",
              "       [5.98818064e-04],\n",
              "       [1.25080347e-03],\n",
              "       [2.04260523e-05],\n",
              "       [1.96087360e-03],\n",
              "       [5.78153122e-05],\n",
              "       [4.83840704e-04],\n",
              "       [7.53641129e-04],\n",
              "       [5.06445285e-05],\n",
              "       [4.69532933e-05],\n",
              "       [2.26664543e-03],\n",
              "       [1.82929635e-03],\n",
              "       [6.52811359e-05],\n",
              "       [2.13092566e-03],\n",
              "       [1.39248371e-03],\n",
              "       [2.47243047e-03],\n",
              "       [2.12135911e-03],\n",
              "       [4.35802341e-03],\n",
              "       [6.99985027e-03],\n",
              "       [8.02487135e-04],\n",
              "       [1.61999464e-03],\n",
              "       [8.41842630e-05],\n",
              "       [1.87128782e-04],\n",
              "       [2.66298652e-03],\n",
              "       [5.31925725e-05],\n",
              "       [6.93830734e-05],\n",
              "       [8.01324844e-04],\n",
              "       [1.27291679e-03],\n",
              "       [8.32438469e-04],\n",
              "       [2.46757269e-03],\n",
              "       [3.53709131e-01],\n",
              "       [1.27881765e-03],\n",
              "       [9.79894394e-05],\n",
              "       [7.13799236e-05],\n",
              "       [2.20954418e-04],\n",
              "       [2.64847279e-03],\n",
              "       [1.38416886e-03],\n",
              "       [4.24106765e-05],\n",
              "       [4.34547663e-04],\n",
              "       [8.42511654e-04],\n",
              "       [2.52753496e-04],\n",
              "       [4.25845385e-04],\n",
              "       [9.06845927e-03],\n",
              "       [1.87706947e-03],\n",
              "       [4.49603176e-05],\n",
              "       [6.97768337e-05],\n",
              "       [2.99841166e-04],\n",
              "       [6.41167164e-04],\n",
              "       [4.31746244e-04],\n",
              "       [5.39663434e-03],\n",
              "       [2.16186047e-04],\n",
              "       [2.10851431e-04],\n",
              "       [1.79868937e-03],\n",
              "       [1.51956081e-03],\n",
              "       [3.05086374e-04],\n",
              "       [9.77993011e-04],\n",
              "       [5.53870201e-03],\n",
              "       [7.16770664e-05],\n",
              "       [1.92055106e-03],\n",
              "       [3.47803652e-05],\n",
              "       [2.13772058e-04],\n",
              "       [1.01969490e-04],\n",
              "       [7.65532255e-04],\n",
              "       [6.49317590e-05],\n",
              "       [2.64316797e-04],\n",
              "       [5.63259018e-05],\n",
              "       [1.02916360e-03],\n",
              "       [2.10434198e-04],\n",
              "       [7.80522823e-04],\n",
              "       [3.67999077e-04],\n",
              "       [3.39269638e-04],\n",
              "       [4.28706408e-04],\n",
              "       [3.22848558e-04],\n",
              "       [1.63614750e-04],\n",
              "       [5.23338495e-05],\n",
              "       [9.42409039e-04],\n",
              "       [2.51442194e-04],\n",
              "       [5.61687350e-03],\n",
              "       [1.14575028e-03],\n",
              "       [8.39591026e-04],\n",
              "       [3.63448262e-03],\n",
              "       [5.72821846e-05],\n",
              "       [1.45018101e-04],\n",
              "       [9.04265034e-05],\n",
              "       [6.48707151e-04],\n",
              "       [3.62689243e-05],\n",
              "       [1.76265836e-03],\n",
              "       [7.05224229e-05],\n",
              "       [1.44538283e-03],\n",
              "       [6.76691532e-04],\n",
              "       [8.58724117e-04],\n",
              "       [9.71883128e-05],\n",
              "       [4.54160571e-03],\n",
              "       [4.81823087e-03],\n",
              "       [1.32173300e-04],\n",
              "       [3.70037556e-03],\n",
              "       [2.73684745e-05],\n",
              "       [5.67541356e-05],\n",
              "       [7.57530142e-05],\n",
              "       [6.21855259e-04],\n",
              "       [7.87201524e-02],\n",
              "       [5.54454327e-03],\n",
              "       [1.89423561e-04],\n",
              "       [7.10309541e-05],\n",
              "       [5.76913357e-04],\n",
              "       [1.36610866e-03],\n",
              "       [4.30166721e-04],\n",
              "       [6.27487898e-04],\n",
              "       [8.09683261e-05],\n",
              "       [2.81542540e-03],\n",
              "       [1.05044246e-03],\n",
              "       [2.36243010e-04],\n",
              "       [3.61692364e-05],\n",
              "       [6.02450818e-05],\n",
              "       [6.49985671e-03],\n",
              "       [3.38128666e-05],\n",
              "       [1.05190277e-03],\n",
              "       [5.91412187e-03],\n",
              "       [3.21322680e-03],\n",
              "       [1.29854679e-03],\n",
              "       [5.36324187e-05],\n",
              "       [3.62390280e-03],\n",
              "       [6.18845224e-04],\n",
              "       [1.75970793e-03],\n",
              "       [7.27128983e-03],\n",
              "       [6.29584465e-05],\n",
              "       [2.13444233e-04],\n",
              "       [4.12216783e-03],\n",
              "       [7.62999058e-04],\n",
              "       [7.84039497e-04],\n",
              "       [5.16027212e-04],\n",
              "       [1.41096115e-03],\n",
              "       [1.53005123e-04],\n",
              "       [1.19299148e-04],\n",
              "       [1.47977471e-03],\n",
              "       [8.52614641e-04],\n",
              "       [1.29789114e-04],\n",
              "       [1.68910623e-03],\n",
              "       [1.03354454e-03],\n",
              "       [4.54758956e-05],\n",
              "       [1.01402402e-03],\n",
              "       [5.79535954e-05],\n",
              "       [1.55720115e-03],\n",
              "       [2.75075436e-04],\n",
              "       [1.79216266e-03],\n",
              "       [1.96826458e-03],\n",
              "       [1.16163492e-03],\n",
              "       [7.67350197e-04],\n",
              "       [3.92316178e-05],\n",
              "       [5.50958830e-05],\n",
              "       [4.81740972e-05],\n",
              "       [7.88497925e-03],\n",
              "       [3.53753567e-04],\n",
              "       [2.25365162e-04],\n",
              "       [5.51316142e-03],\n",
              "       [1.34667754e-03],\n",
              "       [2.61956453e-03],\n",
              "       [2.20030546e-04],\n",
              "       [7.74115324e-04],\n",
              "       [1.14625692e-03],\n",
              "       [1.53338909e-03],\n",
              "       [5.95360994e-04],\n",
              "       [2.96205282e-04],\n",
              "       [7.13581467e-05],\n",
              "       [1.38741732e-03],\n",
              "       [4.94658947e-04],\n",
              "       [8.05482778e-05],\n",
              "       [1.11570954e-03],\n",
              "       [1.30653381e-03],\n",
              "       [4.31954861e-04],\n",
              "       [2.12091208e-03],\n",
              "       [5.69584481e-05],\n",
              "       [9.34123993e-04],\n",
              "       [1.45220757e-03],\n",
              "       [1.75070763e-03],\n",
              "       [2.80797482e-04],\n",
              "       [2.96136077e-05],\n",
              "       [3.32951546e-04],\n",
              "       [1.09368404e-04],\n",
              "       [3.48478556e-04],\n",
              "       [2.80922651e-03],\n",
              "       [1.16098970e-04],\n",
              "       [1.49503350e-03],\n",
              "       [6.07132912e-04],\n",
              "       [1.11447778e-04],\n",
              "       [9.75565999e-05],\n",
              "       [3.59083097e-05],\n",
              "       [5.67167997e-04],\n",
              "       [1.87760592e-03],\n",
              "       [1.14698123e-04],\n",
              "       [7.20187018e-05],\n",
              "       [3.71992588e-04],\n",
              "       [5.53995371e-04],\n",
              "       [7.03215599e-04],\n",
              "       [2.05129385e-04],\n",
              "       [1.25437975e-04],\n",
              "       [4.49675322e-03],\n",
              "       [3.64542007e-04],\n",
              "       [2.16716528e-03],\n",
              "       [2.60493159e-03],\n",
              "       [3.36855650e-03],\n",
              "       [8.43852758e-04],\n",
              "       [7.35640526e-04],\n",
              "       [6.73022078e-05],\n",
              "       [3.66184115e-03],\n",
              "       [4.37825918e-04],\n",
              "       [9.18451697e-05],\n",
              "       [3.53485346e-04],\n",
              "       [1.09082460e-03],\n",
              "       [7.98195601e-04],\n",
              "       [6.94612609e-05],\n",
              "       [1.03250146e-03],\n",
              "       [2.67773867e-04],\n",
              "       [1.11404061e-03],\n",
              "       [1.14730000e-03],\n",
              "       [6.19620085e-04],\n",
              "       [2.54687667e-03],\n",
              "       [4.75749373e-03],\n",
              "       [1.80381536e-03],\n",
              "       [3.48567963e-04],\n",
              "       [3.10480595e-04],\n",
              "       [2.31236219e-04],\n",
              "       [1.20383501e-03],\n",
              "       [5.38864042e-05],\n",
              "       [6.63697720e-04],\n",
              "       [1.51661038e-03],\n",
              "       [7.71135092e-04],\n",
              "       [4.66370657e-05],\n",
              "       [3.52460146e-03],\n",
              "       [1.22046506e-04],\n",
              "       [9.60499048e-04],\n",
              "       [4.02221084e-03],\n",
              "       [5.68763753e-05],\n",
              "       [3.97318602e-03],\n",
              "       [6.56026095e-05],\n",
              "       [2.38040090e-03],\n",
              "       [5.71817160e-04],\n",
              "       [1.52727962e-03],\n",
              "       [6.02722168e-04],\n",
              "       [7.94771113e-05],\n",
              "       [8.67068768e-04],\n",
              "       [1.10167265e-03],\n",
              "       [3.18003185e-05],\n",
              "       [7.17981602e-05],\n",
              "       [7.74085522e-04],\n",
              "       [8.59379768e-04],\n",
              "       [6.79433346e-03],\n",
              "       [1.91915035e-03],\n",
              "       [8.36842955e-05],\n",
              "       [4.78851795e-03],\n",
              "       [7.83519354e-05],\n",
              "       [6.04572306e-05],\n",
              "       [4.81367111e-04],\n",
              "       [5.55098057e-04],\n",
              "       [4.01526690e-04],\n",
              "       [1.68234110e-04],\n",
              "       [6.29514456e-04],\n",
              "       [5.43564558e-04],\n",
              "       [2.95493007e-03],\n",
              "       [6.15030527e-04],\n",
              "       [2.48223543e-03],\n",
              "       [4.30619717e-03],\n",
              "       [3.51503491e-03],\n",
              "       [4.83009219e-03],\n",
              "       [7.20769167e-04],\n",
              "       [6.88105822e-04],\n",
              "       [4.60898154e-05],\n",
              "       [6.02811575e-04],\n",
              "       [1.44541264e-04],\n",
              "       [2.10833549e-03],\n",
              "       [2.53230333e-04],\n",
              "       [2.56761909e-03],\n",
              "       [7.89165497e-04],\n",
              "       [9.60398174e-05],\n",
              "       [3.29530239e-03],\n",
              "       [2.28762627e-04],\n",
              "       [6.82572427e-05],\n",
              "       [1.16214156e-03],\n",
              "       [1.58339739e-04],\n",
              "       [7.65973018e-05],\n",
              "       [7.96735287e-04],\n",
              "       [1.85996294e-04],\n",
              "       [1.35612488e-03],\n",
              "       [6.02275133e-04],\n",
              "       [1.02159381e-03],\n",
              "       [1.85492635e-03],\n",
              "       [4.84794378e-04],\n",
              "       [6.24656677e-04],\n",
              "       [1.33395195e-04],\n",
              "       [2.43276358e-04],\n",
              "       [1.60655379e-03],\n",
              "       [1.20013952e-03],\n",
              "       [1.89611510e-05],\n",
              "       [8.02785158e-04],\n",
              "       [1.03363395e-03],\n",
              "       [1.15669725e-04],\n",
              "       [1.07618289e-04],\n",
              "       [3.34149599e-03],\n",
              "       [2.67193700e-05],\n",
              "       [7.35008725e-05],\n",
              "       [1.34751201e-03],\n",
              "       [1.37251616e-03],\n",
              "       [1.51261687e-03],\n",
              "       [1.96844339e-04],\n",
              "       [9.30577517e-04],\n",
              "       [7.52121210e-04],\n",
              "       [2.21371651e-04],\n",
              "       [4.25950238e-05],\n",
              "       [8.75025988e-04],\n",
              "       [4.80295967e-05],\n",
              "       [2.33998895e-03],\n",
              "       [8.77359489e-05],\n",
              "       [2.26053596e-03],\n",
              "       [3.02642584e-04],\n",
              "       [6.85603518e-05],\n",
              "       [1.25473738e-03],\n",
              "       [1.90556049e-03],\n",
              "       [5.27988122e-05],\n",
              "       [5.40703535e-04],\n",
              "       [7.77810812e-04],\n",
              "       [6.09506969e-05],\n",
              "       [9.86039639e-04],\n",
              "       [2.31295824e-03],\n",
              "       [3.81802929e-05],\n",
              "       [6.35623932e-04],\n",
              "       [7.37364244e-05],\n",
              "       [4.14997339e-04],\n",
              "       [1.74075365e-04],\n",
              "       [3.91790271e-03],\n",
              "       [3.11672688e-03],\n",
              "       [2.75197625e-03],\n",
              "       [1.92722678e-03],\n",
              "       [1.55872107e-03],\n",
              "       [1.25232339e-03],\n",
              "       [1.32852793e-03],\n",
              "       [1.33514404e-03],\n",
              "       [3.33058834e-03],\n",
              "       [1.33231282e-03],\n",
              "       [1.44270062e-03],\n",
              "       [8.33686208e-05],\n",
              "       [3.19772959e-03],\n",
              "       [3.03238630e-04],\n",
              "       [1.66630745e-03],\n",
              "       [2.65166163e-03],\n",
              "       [1.28805637e-04],\n",
              "       [8.79653380e-05],\n",
              "       [7.37421869e-05],\n",
              "       [6.18220874e-05],\n",
              "       [4.86663412e-05],\n",
              "       [1.02794344e-04],\n",
              "       [9.95571318e-05],\n",
              "       [5.75691010e-05],\n",
              "       [1.99258327e-04],\n",
              "       [7.30216503e-04],\n",
              "       [1.92996562e-02],\n",
              "       [2.70223618e-03],\n",
              "       [8.60810280e-04],\n",
              "       [6.53791431e-05],\n",
              "       [4.37736511e-04],\n",
              "       [6.85960054e-03],\n",
              "       [3.82746160e-02],\n",
              "       [7.93308020e-04],\n",
              "       [6.75082207e-03],\n",
              "       [2.22593546e-04]], dtype=float32)"
            ]
          },
          "metadata": {},
          "execution_count": 78
        }
      ]
    },
    {
      "cell_type": "code",
      "metadata": {
        "colab": {
          "base_uri": "https://localhost:8080/"
        },
        "id": "IIaAOkgQ5w6S",
        "outputId": "20630696-fc60-4d09-fedb-4abe6b6d24b4"
      },
      "source": [
        "model.save('model.h5')\n",
        "print(\"ModelSaved\")"
      ],
      "execution_count": null,
      "outputs": [
        {
          "output_type": "stream",
          "name": "stdout",
          "text": [
            "ModelSaved\n"
          ]
        }
      ]
    },
    {
      "cell_type": "code",
      "metadata": {
        "id": "JccBVL_d5xSz"
      },
      "source": [
        ""
      ],
      "execution_count": null,
      "outputs": []
    }
  ]
}